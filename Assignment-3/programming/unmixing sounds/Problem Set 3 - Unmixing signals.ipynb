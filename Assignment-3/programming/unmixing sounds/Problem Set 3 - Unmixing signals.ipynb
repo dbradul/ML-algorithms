{
 "cells": [
  {
   "cell_type": "markdown",
   "metadata": {},
   "source": [
    "# Unmixing signals with ICA"
   ]
  },
  {
   "cell_type": "markdown",
   "metadata": {},
   "source": [
    "Unmixing sound signals is an example of cocktail party problem you are going to use for getting hands-on experience with ICA. You have 5 mixed sound sources in **mixed** folder (go check them out). Your goal is to unmix them."
   ]
  },
  {
   "cell_type": "code",
   "execution_count": 90,
   "metadata": {},
   "outputs": [],
   "source": [
    "import scipy.io.wavfile\n",
    "import numpy as np"
   ]
  },
  {
   "cell_type": "markdown",
   "metadata": {},
   "source": [
    "### Loading data from WAV files"
   ]
  },
  {
   "cell_type": "markdown",
   "metadata": {},
   "source": [
    "Loading data from WAV files"
   ]
  },
  {
   "cell_type": "code",
   "execution_count": 91,
   "metadata": {},
   "outputs": [
    {
     "name": "stdout",
     "output_type": "stream",
     "text": [
      "(53442, 5)\n",
      "[[ 343 -546 -327 -275  612]\n",
      " [ 627 -840 -579 -124  890]\n",
      " [ 589 -725 -491 -115  989]\n",
      " [ 712 -887 -571  -24 1111]\n",
      " [ 589 -725 -491 -115  989]\n",
      " [ 268 -462 -146 -236  678]\n",
      " [ 107 -330   27 -296  522]\n",
      " [-214  -67  372 -416  211]\n",
      " [-214  -67  372 -416  211]\n",
      " [ 159 -206  -26 -233  445]]\n"
     ]
    }
   ],
   "source": [
    "dataset = []\n",
    "for i in range(1,6):\n",
    "    sample_rate, wav_data = scipy.io.wavfile.read('mixed/mix'+str(i)+'.wav')\n",
    "    dataset.append(wav_data)\n",
    "\n",
    "dataset = np.array(dataset).T\n",
    "print(dataset.shape)\n",
    "print(dataset[:10,:])"
   ]
  },
  {
   "cell_type": "markdown",
   "metadata": {},
   "source": [
    "Normalizing data"
   ]
  },
  {
   "cell_type": "code",
   "execution_count": 92,
   "metadata": {},
   "outputs": [
    {
     "name": "stdout",
     "output_type": "stream",
     "text": [
      "[[ 0.01046796 -0.01666328 -0.00997965 -0.00839268  0.01867752]\n",
      " [ 0.0191353  -0.02563581 -0.0176704  -0.00378433  0.02716175]\n",
      " [ 0.01797558 -0.02212614 -0.01498474 -0.00350966  0.03018311]\n",
      " [ 0.0217294  -0.02707019 -0.01742625 -0.00073245  0.03390641]\n",
      " [ 0.01797558 -0.02212614 -0.01498474 -0.00350966  0.03018311]\n",
      " [ 0.00817904 -0.01409969 -0.00445575 -0.00720244  0.02069176]\n",
      " [ 0.00326551 -0.01007121  0.00082401 -0.00903357  0.01593082]\n",
      " [-0.00653103 -0.00204476  0.011353   -0.01269583  0.00643947]\n",
      " [-0.00653103 -0.00204476  0.011353   -0.01269583  0.00643947]\n",
      " [ 0.00485249 -0.00628688 -0.00079349 -0.00711089  0.01358087]]\n"
     ]
    }
   ],
   "source": [
    "maxs = np.max(np.abs(dataset), axis=0).astype(np.int64)\n",
    "data_normalized = 0.99 * dataset / maxs;\n",
    "print(data_normalized[:10,:])"
   ]
  },
  {
   "cell_type": "code",
   "execution_count": 93,
   "metadata": {},
   "outputs": [
    {
     "name": "stdout",
     "output_type": "stream",
     "text": [
      "(53442, 5)\n"
     ]
    }
   ],
   "source": [
    "print(data_normalized.shape)"
   ]
  },
  {
   "cell_type": "markdown",
   "metadata": {},
   "source": [
    "### Implementing ICA"
   ]
  },
  {
   "cell_type": "markdown",
   "metadata": {},
   "source": [
    "Initializing unmixing matrix $ W $."
   ]
  },
  {
   "cell_type": "code",
   "execution_count": 94,
   "metadata": {},
   "outputs": [],
   "source": [
    "W = np.identity(5)"
   ]
  },
  {
   "cell_type": "code",
   "execution_count": 95,
   "metadata": {},
   "outputs": [
    {
     "data": {
      "text/plain": [
       "(5, 53442)"
      ]
     },
     "execution_count": 95,
     "metadata": {},
     "output_type": "execute_result"
    }
   ],
   "source": [
    "g(W.dot(data_normalized.T)).shape"
   ]
  },
  {
   "cell_type": "markdown",
   "metadata": {},
   "source": [
    "Implement learning unmixing matrix $ W $ with ICA."
   ]
  },
  {
   "cell_type": "code",
   "execution_count": 121,
   "metadata": {},
   "outputs": [
    {
     "name": "stdout",
     "output_type": "stream",
     "text": [
      "1: ||W_i+1 - W_i|| = 47.959\n",
      "2: ||W_i+1 - W_i|| = 13.114\n",
      "3: ||W_i+1 - W_i|| = 8.086\n",
      "4: ||W_i+1 - W_i|| = 5.951\n",
      "5: ||W_i+1 - W_i|| = 4.816\n",
      "6: ||W_i+1 - W_i|| = 4.078\n",
      "7: ||W_i+1 - W_i|| = 3.505\n",
      "8: ||W_i+1 - W_i|| = 3.028\n",
      "9: ||W_i+1 - W_i|| = 2.623\n",
      "10: ||W_i+1 - W_i|| = 2.278\n",
      "11: ||W_i+1 - W_i|| = 1.981\n",
      "12: ||W_i+1 - W_i|| = 1.727\n",
      "13: ||W_i+1 - W_i|| = 1.509\n",
      "14: ||W_i+1 - W_i|| = 1.323\n",
      "15: ||W_i+1 - W_i|| = 1.165\n",
      "16: ||W_i+1 - W_i|| = 1.031\n",
      "17: ||W_i+1 - W_i|| = 0.917\n",
      "18: ||W_i+1 - W_i|| = 0.820\n",
      "19: ||W_i+1 - W_i|| = 0.738\n",
      "20: ||W_i+1 - W_i|| = 0.667\n",
      "21: ||W_i+1 - W_i|| = 0.607\n",
      "22: ||W_i+1 - W_i|| = 0.556\n",
      "23: ||W_i+1 - W_i|| = 0.511\n",
      "24: ||W_i+1 - W_i|| = 0.473\n",
      "25: ||W_i+1 - W_i|| = 0.440\n",
      "26: ||W_i+1 - W_i|| = 0.410\n",
      "27: ||W_i+1 - W_i|| = 0.384\n",
      "28: ||W_i+1 - W_i|| = 0.361\n",
      "29: ||W_i+1 - W_i|| = 0.341\n",
      "30: ||W_i+1 - W_i|| = 0.322\n",
      "31: ||W_i+1 - W_i|| = 0.305\n",
      "32: ||W_i+1 - W_i|| = 0.290\n",
      "33: ||W_i+1 - W_i|| = 0.275\n",
      "34: ||W_i+1 - W_i|| = 0.262\n",
      "35: ||W_i+1 - W_i|| = 0.250\n",
      "36: ||W_i+1 - W_i|| = 0.239\n",
      "37: ||W_i+1 - W_i|| = 0.229\n",
      "38: ||W_i+1 - W_i|| = 0.219\n",
      "39: ||W_i+1 - W_i|| = 0.209\n",
      "40: ||W_i+1 - W_i|| = 0.201\n",
      "41: ||W_i+1 - W_i|| = 0.192\n",
      "42: ||W_i+1 - W_i|| = 0.184\n",
      "43: ||W_i+1 - W_i|| = 0.177\n",
      "44: ||W_i+1 - W_i|| = 0.170\n",
      "45: ||W_i+1 - W_i|| = 0.163\n",
      "46: ||W_i+1 - W_i|| = 0.156\n",
      "47: ||W_i+1 - W_i|| = 0.150\n",
      "48: ||W_i+1 - W_i|| = 0.144\n",
      "49: ||W_i+1 - W_i|| = 0.139\n",
      "50: ||W_i+1 - W_i|| = 0.133\n",
      "51: ||W_i+1 - W_i|| = 0.128\n",
      "52: ||W_i+1 - W_i|| = 0.123\n",
      "53: ||W_i+1 - W_i|| = 0.118\n",
      "54: ||W_i+1 - W_i|| = 0.114\n",
      "55: ||W_i+1 - W_i|| = 0.109\n",
      "56: ||W_i+1 - W_i|| = 0.105\n",
      "57: ||W_i+1 - W_i|| = 0.101\n",
      "58: ||W_i+1 - W_i|| = 0.097\n",
      "59: ||W_i+1 - W_i|| = 0.093\n",
      "60: ||W_i+1 - W_i|| = 0.090\n",
      "61: ||W_i+1 - W_i|| = 0.086\n",
      "62: ||W_i+1 - W_i|| = 0.083\n",
      "63: ||W_i+1 - W_i|| = 0.080\n",
      "64: ||W_i+1 - W_i|| = 0.077\n",
      "65: ||W_i+1 - W_i|| = 0.074\n",
      "66: ||W_i+1 - W_i|| = 0.071\n",
      "67: ||W_i+1 - W_i|| = 0.068\n",
      "68: ||W_i+1 - W_i|| = 0.066\n",
      "69: ||W_i+1 - W_i|| = 0.063\n",
      "70: ||W_i+1 - W_i|| = 0.061\n",
      "71: ||W_i+1 - W_i|| = 0.058\n",
      "72: ||W_i+1 - W_i|| = 0.056\n",
      "73: ||W_i+1 - W_i|| = 0.054\n",
      "74: ||W_i+1 - W_i|| = 0.052\n",
      "75: ||W_i+1 - W_i|| = 0.050\n"
     ]
    }
   ],
   "source": [
    "# =============== TODO: Your code here ===============\n",
    "# Implement learning unmixing matrix W with ICA. Do not forget to account for the dimensionality.\n",
    "def g(x):\n",
    "    return 1 / (1 + np.exp(-x))\n",
    "\n",
    "W = np.identity(5)\n",
    "alpha = 1e-2\n",
    "eps = 5e-2\n",
    "res = np.inf\n",
    "it = 0\n",
    "while res > eps:\n",
    "    it += 1\n",
    "    W_old = W.copy()\n",
    "    for x in data_normalized:\n",
    "        x = x.reshape(-1,1)\n",
    "        grad = (1 - 2 * g(W.dot(x))).dot(x.T) + np.linalg.inv(W.T)\n",
    "        W = W + alpha * grad\n",
    "    res = np.linalg.norm(W - W_old)\n",
    "    print('{}: ||W_i+1 - W_i|| = {:.3f}'.format(it, res))\n",
    "#     print(W)\n",
    "# ===================================================="
   ]
  },
  {
   "cell_type": "markdown",
   "metadata": {},
   "source": [
    "### Unmixing sounds"
   ]
  },
  {
   "cell_type": "markdown",
   "metadata": {},
   "source": [
    "Use learned matrix $ W $ to unmix the sounds into separate data sources. Make sure you represent the resulting unmixing matrix in a way so that each row is a separate track (i.e. the matrix should have 5 rows)."
   ]
  },
  {
   "cell_type": "code",
   "execution_count": 122,
   "metadata": {},
   "outputs": [],
   "source": [
    "# =============== TODO: Your code here ===============\n",
    "# Use learned matrix W to unmix the sounds into separate data sources.\n",
    "unmixed = W.dot(data_normalized.transpose(1,0))\n",
    "# ===================================================="
   ]
  },
  {
   "cell_type": "markdown",
   "metadata": {},
   "source": [
    "Saving unmixed sounds. Please note that some players may not support the resulting WAV format. If that is the case, you can use Winamp to play the unmixed sounds."
   ]
  },
  {
   "cell_type": "code",
   "execution_count": 123,
   "metadata": {},
   "outputs": [],
   "source": [
    "maxs = np.max(np.abs(unmixed), axis=1).reshape((5,1))\n",
    "unmixed_normalized = 0.99 * unmixed / maxs;\n",
    "\n",
    "for i in range(unmixed_normalized.shape[0]):\n",
    "    track = unmixed_normalized[i,:]\n",
    "    scipy.io.wavfile.write('unmixed/unmixed'+str(i+1)+'.wav', sample_rate, track)"
   ]
  },
  {
   "cell_type": "code",
   "execution_count": null,
   "metadata": {},
   "outputs": [],
   "source": []
  }
 ],
 "metadata": {
  "kernelspec": {
   "display_name": "Python 3",
   "language": "python",
   "name": "python3"
  },
  "language_info": {
   "codemirror_mode": {
    "name": "ipython",
    "version": 3
   },
   "file_extension": ".py",
   "mimetype": "text/x-python",
   "name": "python",
   "nbconvert_exporter": "python",
   "pygments_lexer": "ipython3",
   "version": "3.6.8"
  }
 },
 "nbformat": 4,
 "nbformat_minor": 2
}
