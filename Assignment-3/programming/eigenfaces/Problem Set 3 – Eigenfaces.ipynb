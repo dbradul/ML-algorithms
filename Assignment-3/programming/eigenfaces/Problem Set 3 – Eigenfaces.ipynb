{
 "cells": [
  {
   "cell_type": "code",
   "execution_count": 8,
   "metadata": {},
   "outputs": [],
   "source": [
    "import os\n",
    "import csv\n",
    "from PIL import Image\n",
    "import matplotlib.pyplot as plt\n",
    "import random\n",
    "import numpy as np"
   ]
  },
  {
   "cell_type": "code",
   "execution_count": 9,
   "metadata": {},
   "outputs": [],
   "source": [
    "folders = [x[0] for x in os.walk('images')][1:]"
   ]
  },
  {
   "cell_type": "code",
   "execution_count": 10,
   "metadata": {},
   "outputs": [],
   "source": [
    "images = []\n",
    "for folder in folders:\n",
    "    with open(folder+'\\\\filelist_LBP.txt', 'r') as f:\n",
    "        reader = csv.reader(f, delimiter='\\t')\n",
    "        for img_name, left, top, right, bottom, new_size_y, new_size_x in reader:\n",
    "            img = Image.open(folder+'\\\\'+img_name).resize((int(new_size_y), int(new_size_x))).crop((int(left), int(top), int(right), int(bottom))).resize((100,100))\n",
    "            \n",
    "            # some images are black and white, for PCA to work correctly need to convert those to rgb\n",
    "            if (len(np.array(img).shape) != 3 or np.array(img).shape[2] != 3):\n",
    "                rgbimg = Image.new(\"RGB\", img.size)\n",
    "                rgbimg.paste(img)\n",
    "                images.append(rgbimg)\n",
    "            else:\n",
    "                images.append(img)\n",
    "            if (len(np.array(images[-1]).shape) != 3 or np.array(images[-1]).shape[2] != 3):\n",
    "                print (\"Image was not processed correctly \" + folder + '\\\\' + img_name)"
   ]
  },
  {
   "cell_type": "markdown",
   "metadata": {},
   "source": [
    "Showing few random faces from the dataset."
   ]
  },
  {
   "cell_type": "code",
   "execution_count": 11,
   "metadata": {},
   "outputs": [
    {
     "data": {
      "image/png": "[encoded data removed]",
      "text/plain": [
       "<Figure size 432x288 with 5 Axes>"
      ]
     },
     "metadata": {
      "needs_background": "light"
     },
     "output_type": "display_data"
    }
   ],
   "source": [
    "num_faces = 5\n",
    "\n",
    "for i in range(1, num_faces+1):\n",
    "    img = random.choice(images)\n",
    "    plt.subplot(2, num_faces, i)\n",
    "    plt.imshow(img)"
   ]
  },
  {
   "cell_type": "markdown",
   "metadata": {},
   "source": [
    "### Implementing eigenfaces with SVD"
   ]
  },
  {
   "cell_type": "markdown",
   "metadata": {},
   "source": [
    "Implement eigenfaces using singular value decomposition (SVD). Remember to represent the images properly and account for the color."
   ]
  },
  {
   "cell_type": "code",
   "execution_count": null,
   "metadata": {},
   "outputs": [],
   "source": [
    "# =============== TODO: Your code here ===============\n",
    "# Represent the images as a matrix for SVD decompotision.\n",
    "\n",
    "\n",
    "# ===================================================="
   ]
  },
  {
   "cell_type": "code",
   "execution_count": null,
   "metadata": {},
   "outputs": [],
   "source": [
    "# =============== TODO: Your code here ===============\n",
    "# Implement eigenfaces using singular value decomposition (SVD). \n",
    "# Remember to represent the images properly and account for the color.\n",
    "\n",
    "\n",
    "# ===================================================="
   ]
  },
  {
   "cell_type": "markdown",
   "metadata": {},
   "source": [
    "Visualize 10 eigenfaces associated with the highest eigenvalues."
   ]
  },
  {
   "cell_type": "code",
   "execution_count": null,
   "metadata": {},
   "outputs": [],
   "source": [
    "# =============== TODO: Your code here ===============\n",
    "# Visualize 10 eigenfaces associated with the highest eigenvalues.\n",
    "\n",
    "\n",
    "# ===================================================="
   ]
  },
  {
   "cell_type": "markdown",
   "metadata": {},
   "source": [
    "### Implementing eigenfaces with variance maximization"
   ]
  },
  {
   "cell_type": "markdown",
   "metadata": {},
   "source": [
    "As you have noticed, SVD could be quite slow if the number of faces is large. If the number of faces exceeds 50k, which is not a large dataset according to the modern standards, doing SVD is not possible directly and you have to use iterative methods for computing eigenfaces.\n",
    "\n",
    "Here, you are going to calculate 10 eigenfaces by maximizing variance as stated in the lecture notes."
   ]
  },
  {
   "cell_type": "code",
   "execution_count": null,
   "metadata": {},
   "outputs": [],
   "source": [
    "# =============== TODO: Your code here ===============\n",
    "# Calculate 10 eigenfaces iteratively by variance maximization.\n",
    "\n",
    "\n",
    "# ===================================================="
   ]
  },
  {
   "cell_type": "markdown",
   "metadata": {},
   "source": [
    "Visualize 10 eigenfaces learned by variance maximization. Compare them with SVG generated eigenfaces. "
   ]
  },
  {
   "cell_type": "code",
   "execution_count": null,
   "metadata": {},
   "outputs": [],
   "source": [
    "# =============== TODO: Your code here ===============\n",
    "# Visualize 10 eigenfaces learned by variance maximization. Compare them with SVG generated eigenfaces.\n",
    "\n",
    "\n",
    "# ===================================================="
   ]
  }
 ],
 "metadata": {
  "kernelspec": {
   "display_name": "Python 3",
   "language": "python",
   "name": "python3"
  },
  "language_info": {
   "codemirror_mode": {
    "name": "ipython",
    "version": 3
   },
   "file_extension": ".py",
   "mimetype": "text/x-python",
   "name": "python",
   "nbconvert_exporter": "python",
   "pygments_lexer": "ipython3",
   "version": "3.6.6"
  }
 },
 "nbformat": 4,
 "nbformat_minor": 2
}
