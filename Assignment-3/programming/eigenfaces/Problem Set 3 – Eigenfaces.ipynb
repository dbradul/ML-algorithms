{
 "cells": [
  {
   "cell_type": "code",
   "execution_count": 2,
   "metadata": {},
   "outputs": [],
   "source": [
    "import os\n",
    "import csv\n",
    "from PIL import Image\n",
    "import matplotlib.pyplot as plt\n",
    "import random\n",
    "import numpy as np"
   ]
  },
  {
   "cell_type": "code",
   "execution_count": null,
   "metadata": {},
   "outputs": [],
   "source": []
  },
  {
   "cell_type": "code",
   "execution_count": 3,
   "metadata": {},
   "outputs": [],
   "source": [
    "folders = [x[0] for x in os.walk('images')][1:]"
   ]
  },
  {
   "cell_type": "code",
   "execution_count": 4,
   "metadata": {},
   "outputs": [],
   "source": [
    "images = []\n",
    "# Added resize because Kernel is dying\n",
    "image_size = (20, 20)\n",
    "for folder in folders:\n",
    "    with open(folder+'/filelist_LBP.txt', 'r') as f:\n",
    "        reader = csv.reader(f, delimiter='\\t')\n",
    "        for img_name, left, top, right, bottom, new_size_y, new_size_x in reader:\n",
    "            img = Image.open(folder+'/'+img_name).resize((int(new_size_y), int(new_size_x))).crop((int(left), int(top), int(right), int(bottom))).resize(image_size)\n",
    "            \n",
    "            # some images are black and white, for PCA to work correctly need to convert those to rgb\n",
    "            if (len(np.array(img).shape) != 3 or np.array(img).shape[2] != 3):\n",
    "                rgbimg = Image.new(\"RGB\", img.size)\n",
    "                rgbimg.paste(img)\n",
    "                images.append(rgbimg)\n",
    "            else:\n",
    "                images.append(img)\n",
    "            if (len(np.array(images[-1]).shape) != 3 or np.array(images[-1]).shape[2] != 3):\n",
    "                print (\"Image was not processed correctly \" + folder + '/' + img_name)"
   ]
  },
  {
   "cell_type": "markdown",
   "metadata": {},
   "source": [
    "Showing few random faces from the dataset."
   ]
  },
  {
   "cell_type": "code",
   "execution_count": 5,
   "metadata": {},
   "outputs": [
    {
     "data": {
      "image/png": "[encoded data removed]",
      "text/plain": [
       "<Figure size 432x288 with 5 Axes>"
      ]
     },
     "metadata": {
      "needs_background": "light"
     },
     "output_type": "display_data"
    }
   ],
   "source": [
    "num_faces = 5\n",
    "\n",
    "for i in range(1, num_faces+1):\n",
    "    img = random.choice(images)\n",
    "    plt.subplot(2, num_faces, i)\n",
    "    plt.imshow(img)"
   ]
  },
  {
   "cell_type": "markdown",
   "metadata": {},
   "source": [
    "### Implementing eigenfaces with SVD"
   ]
  },
  {
   "cell_type": "markdown",
   "metadata": {},
   "source": [
    "Implement eigenfaces using singular value decomposition (SVD). Remember to represent the images properly and account for the color."
   ]
  },
  {
   "cell_type": "code",
   "execution_count": 6,
   "metadata": {},
   "outputs": [],
   "source": [
    "adjusted_shape = image_size + (3,)"
   ]
  },
  {
   "cell_type": "code",
   "execution_count": null,
   "metadata": {},
   "outputs": [],
   "source": []
  },
  {
   "cell_type": "code",
   "execution_count": 7,
   "metadata": {},
   "outputs": [],
   "source": [
    "# =============== TODO: Your code here ===============\n",
    "# Represent the images as a matrix for SVD decompotision.\n",
    "flat_images_shape = (adjusted_shape[0] * adjusted_shape[1] * adjusted_shape[2])\n",
    "X = np.reshape(np.array([np.asarray(image) for image in images]), (len(images), flat_images_shape))\n",
    "# ===================================================="
   ]
  },
  {
   "cell_type": "code",
   "execution_count": 8,
   "metadata": {},
   "outputs": [],
   "source": [
    "num_faces = 10"
   ]
  },
  {
   "cell_type": "code",
   "execution_count": 9,
   "metadata": {},
   "outputs": [],
   "source": [
    "mean_face = np.mean(X, axis=0)\n",
    "X = X - mean_face"
   ]
  },
  {
   "cell_type": "code",
   "execution_count": 10,
   "metadata": {
    "scrolled": true
   },
   "outputs": [
    {
     "data": {
      "text/plain": [
       "<matplotlib.image.AxesImage at 0x114527400>"
      ]
     },
     "execution_count": 10,
     "metadata": {},
     "output_type": "execute_result"
    },
    {
     "data": {
      "image/png": "[encoded data removed]",
      "text/plain": [
       "<Figure size 432x288 with 1 Axes>"
      ]
     },
     "metadata": {
      "needs_background": "light"
     },
     "output_type": "display_data"
    }
   ],
   "source": [
    "plt.imshow(np.array(mean_face, dtype='uint8').reshape(adjusted_shape))"
   ]
  },
  {
   "cell_type": "code",
   "execution_count": null,
   "metadata": {},
   "outputs": [],
   "source": []
  },
  {
   "cell_type": "code",
   "execution_count": 14,
   "metadata": {},
   "outputs": [
    {
     "name": "stdout",
     "output_type": "stream",
     "text": [
      "Collecting sklearn\n",
      "  Downloading https://files.pythonhosted.org/packages/1e/7a/dbb3be0ce9bd5c8b7e3d87328e79063f8b263b2b1bfa4774cb1147bfcd3f/sklearn-0.0.tar.gz\n",
      "Collecting scikit-learn (from sklearn)\n",
      "\u001b[?25l  Downloading https://files.pythonhosted.org/packages/bd/1a/5dc99dfa7e7bf2e1f22a07f440b61299148a42d13dee1d5153360313ed67/scikit_learn-0.20.3-cp37-cp37m-macosx_10_6_intel.macosx_10_9_intel.macosx_10_9_x86_64.macosx_10_10_intel.macosx_10_10_x86_64.whl (8.0MB)\n",
      "\u001b[K    100% |████████████████████████████████| 8.0MB 1.6MB/s ta 0:00:011\n",
      "\u001b[?25hRequirement already satisfied: numpy>=1.8.2 in /Users/sasha/programming/apps-ML/Assignment-3/programming/.env/lib/python3.7/site-packages (from scikit-learn->sklearn) (1.16.3)\n",
      "Requirement already satisfied: scipy>=0.13.3 in /Users/sasha/programming/apps-ML/Assignment-3/programming/.env/lib/python3.7/site-packages (from scikit-learn->sklearn) (1.2.1)\n",
      "Building wheels for collected packages: sklearn\n",
      "  Building wheel for sklearn (setup.py) ... \u001b[?25ldone\n",
      "\u001b[?25h  Stored in directory: /Users/sasha/Library/Caches/pip/wheels/76/03/bb/589d421d27431bcd2c6da284d5f2286c8e3b2ea3cf1594c074\n",
      "Successfully built sklearn\n",
      "Installing collected packages: scikit-learn, sklearn\n",
      "Successfully installed scikit-learn-0.20.3 sklearn-0.0\n",
      "\u001b[33mYou are using pip version 19.0.3, however version 19.1 is available.\n",
      "You should consider upgrading via the 'pip install --upgrade pip' command.\u001b[0m\n"
     ]
    }
   ],
   "source": [
    "!pip install sklearn"
   ]
  },
  {
   "cell_type": "code",
   "execution_count": 12,
   "metadata": {},
   "outputs": [],
   "source": [
    "# =============== TODO: Your code here ===============\n",
    "# Implement eigenfaces using singular value decomposition (SVD). \n",
    "# Remember to represent the images properly and account for the color.\n",
    "from sklearn.decomposition import TruncatedSVD\n",
    "svd = TruncatedSVD(n_components = num_faces)\n",
    "cov = np.cov(X.T)\n",
    "svd.fit(cov)\n",
    "eigenvectors = svd.components_ * 255\n",
    "\n",
    "# ===================================================="
   ]
  },
  {
   "cell_type": "markdown",
   "metadata": {},
   "source": [
    "Visualize 10 eigenfaces associated with the highest eigenvalues."
   ]
  },
  {
   "cell_type": "code",
   "execution_count": null,
   "metadata": {},
   "outputs": [],
   "source": []
  },
  {
   "cell_type": "code",
   "execution_count": 15,
   "metadata": {},
   "outputs": [
    {
     "name": "stderr",
     "output_type": "stream",
     "text": [
      "Clipping input data to the valid range for imshow with RGB data ([0..1] for floats or [0..255] for integers).\n",
      "Clipping input data to the valid range for imshow with RGB data ([0..1] for floats or [0..255] for integers).\n",
      "Clipping input data to the valid range for imshow with RGB data ([0..1] for floats or [0..255] for integers).\n",
      "Clipping input data to the valid range for imshow with RGB data ([0..1] for floats or [0..255] for integers).\n",
      "Clipping input data to the valid range for imshow with RGB data ([0..1] for floats or [0..255] for integers).\n",
      "Clipping input data to the valid range for imshow with RGB data ([0..1] for floats or [0..255] for integers).\n",
      "Clipping input data to the valid range for imshow with RGB data ([0..1] for floats or [0..255] for integers).\n",
      "Clipping input data to the valid range for imshow with RGB data ([0..1] for floats or [0..255] for integers).\n",
      "Clipping input data to the valid range for imshow with RGB data ([0..1] for floats or [0..255] for integers).\n",
      "Clipping input data to the valid range for imshow with RGB data ([0..1] for floats or [0..255] for integers).\n"
     ]
    },
    {
     "data": {
      "image/png": "[encoded data removed]",
      "text/plain": [
       "<Figure size 1800x720 with 10 Axes>"
      ]
     },
     "metadata": {
      "needs_background": "light"
     },
     "output_type": "display_data"
    }
   ],
   "source": [
    "# =============== TODO: Your code here ===============\n",
    "# Visualize 10 eigenfaces associated with the highest eigenvalues.\n",
    "plt.figure(figsize=[25,10])\n",
    "for i in range(1, num_faces+1):\n",
    "    img = eigenvectors[i - 1]\n",
    "    plt.subplot(2, 8, i)\n",
    "    plt.imshow(np.array(img).reshape(adjusted_shape))\n",
    "# ===================================================="
   ]
  },
  {
   "cell_type": "markdown",
   "metadata": {},
   "source": [
    "### Implementing eigenfaces with variance maximization"
   ]
  },
  {
   "cell_type": "markdown",
   "metadata": {},
   "source": [
    "As you have noticed, SVD could be quite slow if the number of faces is large. If the number of faces exceeds 50k, which is not a large dataset according to the modern standards, doing SVD is not possible directly and you have to use iterative methods for computing eigenfaces.\n",
    "\n",
    "Here, you are going to calculate 10 eigenfaces by maximizing variance as stated in the lecture notes."
   ]
  },
  {
   "cell_type": "code",
   "execution_count": 18,
   "metadata": {},
   "outputs": [],
   "source": [
    "def eigenvalue(A, v):\n",
    "    Av = A.dot(v)\n",
    "    return v.dot(Av)\n",
    "\n",
    "def power_iteration(A):\n",
    "    n, d = A.shape\n",
    "\n",
    "    v = np.ones(d) / np.sqrt(d)\n",
    "    ev = eigenvalue(A, v)\n",
    "\n",
    "    while True:\n",
    "        Av = A.dot(v)\n",
    "        v_new = Av / np.linalg.norm(Av)\n",
    "\n",
    "        ev_new = eigenvalue(A, v_new)\n",
    "        if np.abs(ev - ev_new) < 0.01:\n",
    "            break\n",
    "\n",
    "        v = v_new\n",
    "        ev = ev_new\n",
    "\n",
    "    return ev_new, v_new"
   ]
  },
  {
   "cell_type": "code",
   "execution_count": 20,
   "metadata": {
    "scrolled": true
   },
   "outputs": [
    {
     "data": {
      "text/plain": [
       "array([[  8.62219729,   7.67508529,   6.74873735, ...,   5.24962477,\n",
       "          4.97525658,   4.59916462],\n",
       "       [ -8.29662432,  -6.66802393,  -5.40500543, ...,   7.79334505,\n",
       "          6.29068759,   5.2251215 ],\n",
       "       [ 12.47094695,  11.07251328,   9.53299552, ...,  16.65577692,\n",
       "         14.05943447,  11.75381098],\n",
       "       ...,\n",
       "       [ 10.3381259 ,   9.14814016,   8.69289653, ..., -12.79833317,\n",
       "        -13.30163601, -12.60149755],\n",
       "       [ -8.44371485,  -6.43800228,  -4.83197693, ...,   5.63377718,\n",
       "          4.54095574,   4.36963656],\n",
       "       [ 14.87868306,  11.95958959,   9.61757648, ...,  19.94684862,\n",
       "         21.77329907,  21.53068551]])"
      ]
     },
     "execution_count": 20,
     "metadata": {},
     "output_type": "execute_result"
    }
   ],
   "source": [
    "eigenvectors"
   ]
  },
  {
   "cell_type": "code",
   "execution_count": null,
   "metadata": {},
   "outputs": [],
   "source": []
  },
  {
   "cell_type": "code",
   "execution_count": 49,
   "metadata": {},
   "outputs": [],
   "source": [
    "# =============== TODO: Your code here ===============\n",
    "# Calculate 10 eigenfaces iteratively by variance maximization.\n",
    "A = cov \n",
    "iter_eigenvectors = []\n",
    "for i in range(10):\n",
    "    \n",
    "    eigval, eigvec = power_iteration(A)\n",
    "    A = A - eigval * np.dot(eigvec.reshape(-1, 1), eigvec.reshape(1, -1))\n",
    "    eigvec = eigvec * 255\n",
    "    iter_eigenvectors.append(eigvec)\n",
    "    \n",
    "    \n",
    "# ===================================================="
   ]
  },
  {
   "cell_type": "code",
   "execution_count": 50,
   "metadata": {},
   "outputs": [
    {
     "data": {
      "text/plain": [
       "[array([8.62125665, 7.67432929, 6.74812454, ..., 5.25050825, 4.97596971,\n",
       "        4.59975695]),\n",
       " array([-8.29911755, -6.67024794, -5.40695101, ...,  7.79115075,\n",
       "         6.28873025,  5.22340022]),\n",
       " array([-12.46874816, -11.07162239,  -9.53300849, ..., -16.6563382 ,\n",
       "        -14.06073215, -11.75558436]),\n",
       " array([ 6.95870722, -0.80287923, -6.01631922, ...,  4.44773264,\n",
       "        -2.57537549, -7.21621572]),\n",
       " array([-14.19543605, -12.06846429, -10.18179777, ...,   5.80064298,\n",
       "          5.22328624,   4.82339248]),\n",
       " array([ -0.84440747,  -0.7179583 ,  -0.59791152, ..., -13.14594081,\n",
       "        -11.06869819,  -9.70964213]),\n",
       " array([-0.55609608, -0.33870345, -0.05761496, ..., 14.37225105,\n",
       "        10.86904536,  8.80274863]),\n",
       " array([-10.34994654,  -9.15730871,  -8.7001528 , ...,  12.77936827,\n",
       "         13.28788866,  12.59153967]),\n",
       " array([-8.3789772 , -6.38444144, -4.78650306, ...,  5.66826458,\n",
       "         4.58085711,  4.4105011 ]),\n",
       " array([14.95625178, 12.01994109,  9.66105276, ..., 19.99922216,\n",
       "        21.81605068, 21.55979604])]"
      ]
     },
     "execution_count": 50,
     "metadata": {},
     "output_type": "execute_result"
    }
   ],
   "source": [
    "iter_eigenvectors"
   ]
  },
  {
   "cell_type": "markdown",
   "metadata": {},
   "source": [
    "Visualize 10 eigenfaces learned by variance maximization. Compare them with SVG generated eigenfaces. "
   ]
  },
  {
   "cell_type": "code",
   "execution_count": null,
   "metadata": {},
   "outputs": [],
   "source": [
    "# =============== TODO: Your code here ===============\n",
    "# Visualize 10 eigenfaces learned by variance maximization. Compare them with SVG generated eigenfaces.\n",
    "\n",
    "\n",
    "# ===================================================="
   ]
  }
 ],
 "metadata": {
  "kernelspec": {
   "display_name": "Python 3",
   "language": "python",
   "name": "python3"
  },
  "language_info": {
   "codemirror_mode": {
    "name": "ipython",
    "version": 3
   },
   "file_extension": ".py",
   "mimetype": "text/x-python",
   "name": "python",
   "nbconvert_exporter": "python",
   "pygments_lexer": "ipython3",
   "version": "3.7.2"
  }
 },
 "nbformat": 4,
 "nbformat_minor": 2
}
