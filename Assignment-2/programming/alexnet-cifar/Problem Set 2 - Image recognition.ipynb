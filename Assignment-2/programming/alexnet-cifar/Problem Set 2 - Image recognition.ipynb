{
 "cells": [
  {
   "cell_type": "code",
   "execution_count": 1,
   "metadata": {},
   "outputs": [],
   "source": [
    "import os\n",
    "cuda = True\n",
    "os.environ['CUDA_DEVICE_ORDER'] = 'PCI_BUS_ID'\n",
    "if cuda:\n",
    "    os.environ['CUDA_VISIBLE_DEVICES'] = '0'\n",
    "else:\n",
    "    os.environ['CUDA_VISIBLE_DEVICES'] = ''"
   ]
  },
  {
   "cell_type": "markdown",
   "metadata": {},
   "source": [
    "# Convolutional neural networks"
   ]
  },
  {
   "cell_type": "markdown",
   "metadata": {},
   "source": [
    "In class, we have briefly reviewed the idea of learning good features directly from data and went through the concept of convolutional neural networks along with few architectures.\n",
    "\n",
    "Until recently, building convolutional neural networks was tough. There was no high-level tools for that, you would be required to understand all the internal mechanics of the model and its operations.\n",
    "\n",
    "Today, due to the high-level tools such as Keras and TensorFlow, everybody can build a convolutional neural network and put it to work without diving deep into them. What used to be a one-month project became a few hours exercise.\n"
   ]
  },
  {
   "cell_type": "code",
   "execution_count": 2,
   "metadata": {},
   "outputs": [
    {
     "name": "stderr",
     "output_type": "stream",
     "text": [
      "Using TensorFlow backend.\n"
     ]
    }
   ],
   "source": [
    "import pickle\n",
    "import numpy as np\n",
    "import keras\n",
    "import matplotlib.pyplot as plt"
   ]
  },
  {
   "cell_type": "markdown",
   "metadata": {},
   "source": [
    "## Loading the images"
   ]
  },
  {
   "cell_type": "code",
   "execution_count": 3,
   "metadata": {},
   "outputs": [],
   "source": [
    "train_images, train_labels = pickle.load(open('data/train_set_all.pkl', 'rb'))\n",
    "cv_images, cv_labels = pickle.load(open('data/test_set_all.pkl', 'rb'))"
   ]
  },
  {
   "cell_type": "code",
   "execution_count": 4,
   "metadata": {},
   "outputs": [
    {
     "name": "stdout",
     "output_type": "stream",
     "text": [
      "(50000, 32, 32, 3)\n",
      "50000\n"
     ]
    }
   ],
   "source": [
    "print(train_images.shape)\n",
    "print(len(train_labels))"
   ]
  },
  {
   "cell_type": "code",
   "execution_count": 5,
   "metadata": {},
   "outputs": [
    {
     "name": "stdout",
     "output_type": "stream",
     "text": [
      "(10000, 32, 32, 3)\n",
      "10000\n"
     ]
    }
   ],
   "source": [
    "print(cv_images.shape)\n",
    "print(len(cv_labels))"
   ]
  },
  {
   "cell_type": "code",
   "execution_count": 6,
   "metadata": {},
   "outputs": [
    {
     "name": "stdout",
     "output_type": "stream",
     "text": [
      "[6, 9, 9, 4, 1, 1, 2, 7, 8, 3]\n"
     ]
    }
   ],
   "source": [
    "print(train_labels[0:10])"
   ]
  },
  {
   "cell_type": "code",
   "execution_count": 7,
   "metadata": {},
   "outputs": [],
   "source": [
    "def show_image(np_array):\n",
    "    %matplotlib inline\n",
    "    plt.figure()\n",
    "    plt.imshow(np_array)"
   ]
  },
  {
   "cell_type": "code",
   "execution_count": 8,
   "metadata": {},
   "outputs": [],
   "source": [
    "def show_example(data_set, labels, example_index):\n",
    "    show_image(data_set[example_index])\n",
    "    print('Label: ', labels[example_index])"
   ]
  },
  {
   "cell_type": "code",
   "execution_count": 9,
   "metadata": {},
   "outputs": [
    {
     "name": "stdout",
     "output_type": "stream",
     "text": [
      "Label:  6\n"
     ]
    },
    {
     "data": {
      "image/png": "[encoded data removed]",
      "text/plain": [
       "<Figure size 432x288 with 1 Axes>"
      ]
     },
     "metadata": {
      "needs_background": "light"
     },
     "output_type": "display_data"
    }
   ],
   "source": [
    "show_example(train_images, train_labels, example_index = 0)"
   ]
  },
  {
   "cell_type": "code",
   "execution_count": 10,
   "metadata": {},
   "outputs": [
    {
     "name": "stdout",
     "output_type": "stream",
     "text": [
      "Label:  3\n"
     ]
    },
    {
     "data": {
      "image/png": "[encoded data removed]",
      "text/plain": [
       "<Figure size 432x288 with 1 Axes>"
      ]
     },
     "metadata": {
      "needs_background": "light"
     },
     "output_type": "display_data"
    }
   ],
   "source": [
    "show_example(cv_images, cv_labels, example_index = 0)"
   ]
  },
  {
   "cell_type": "code",
   "execution_count": null,
   "metadata": {},
   "outputs": [],
   "source": [
    "from keras.utils import np_utils\n",
    "train_y = np_utils.to_categorical(train_labels, 10)\n",
    "cv_y = np_utils.to_categorical(cv_labels, 10)"
   ]
  },
  {
   "cell_type": "markdown",
   "metadata": {},
   "source": [
    "## Building AlexNet"
   ]
  },
  {
   "cell_type": "markdown",
   "metadata": {},
   "source": [
    "In 2012 a convolutional neural network called AlexNet won ImageNet competition. \n",
    "\n",
    "Go through an [original AlexNet paper](https://papers.nips.cc/paper/4824-imagenet-classification-with-deep-convolutional-neural-networks.pdf) to investigate the architecture. Next, investigate the [basics of Keras](https://keras.io/#keras-the-python-deep-learning-library). We will use it with TensorFlow backend.\n",
    "\n",
    "You are also encouraged to go through some CNN tutorial for Keras. There is a number of them online (for example, [this](https://elitedatascience.com/keras-tutorial-deep-learning-in-python) or [this](https://machinelearningmastery.com/handwritten-digit-recognition-using-convolutional-neural-networks-python-keras/)).\n",
    "Now, build AlexNex network with Keras for object recognition. Note that standard AlexNet works with 224x224 input images. The dataset you are going to use for this problem is 32x32."
   ]
  },
  {
   "cell_type": "code",
   "execution_count": 39,
   "metadata": {},
   "outputs": [
    {
     "name": "stdout",
     "output_type": "stream",
     "text": [
      "_________________________________________________________________\n",
      "Layer (type)                 Output Shape              Param #   \n",
      "=================================================================\n",
      "input_7 (InputLayer)         (None, 32, 32, 3)         0         \n",
      "_________________________________________________________________\n",
      "conv2d_32 (Conv2D)           (None, 8, 8, 48)          17472     \n",
      "_________________________________________________________________\n",
      "max_pooling2d_19 (MaxPooling (None, 4, 4, 48)          0         \n",
      "_________________________________________________________________\n",
      "conv2d_33 (Conv2D)           (None, 4, 4, 128)         153728    \n",
      "_________________________________________________________________\n",
      "max_pooling2d_20 (MaxPooling (None, 2, 2, 128)         0         \n",
      "_________________________________________________________________\n",
      "conv2d_34 (Conv2D)           (None, 2, 2, 192)         221376    \n",
      "_________________________________________________________________\n",
      "conv2d_35 (Conv2D)           (None, 2, 2, 192)         331968    \n",
      "_________________________________________________________________\n",
      "conv2d_36 (Conv2D)           (None, 2, 2, 128)         221312    \n",
      "_________________________________________________________________\n",
      "max_pooling2d_21 (MaxPooling (None, 1, 1, 128)         0         \n",
      "_________________________________________________________________\n",
      "flatten_5 (Flatten)          (None, 128)               0         \n",
      "_________________________________________________________________\n",
      "dense_16 (Dense)             (None, 2048)              264192    \n",
      "_________________________________________________________________\n",
      "dense_17 (Dense)             (None, 2048)              4196352   \n",
      "_________________________________________________________________\n",
      "dense_18 (Dense)             (None, 10)                20490     \n",
      "=================================================================\n",
      "Total params: 5,426,890\n",
      "Trainable params: 5,426,890\n",
      "Non-trainable params: 0\n",
      "_________________________________________________________________\n"
     ]
    }
   ],
   "source": [
    "from keras.models import Model\n",
    "from keras.layers import Input, Conv2D, MaxPooling2D, UpSampling2D, Flatten, Dense\n",
    "from keras.optimizers import Adam\n",
    "from keras.utils import plot_model\n",
    "\n",
    "def create_conv_net():\n",
    "    input_img = Input(shape=(32, 32, 3))\n",
    "\n",
    "    x = Conv2D(48, (11, 11), strides=(4,4), padding='same', activation='relu')(input_img)\n",
    "    x = MaxPooling2D((2, 2), padding='same')(x)\n",
    "    x = Conv2D(128, (5, 5),  strides=(1,1), padding='same', activation='relu')(x)\n",
    "    x = MaxPooling2D((2, 2), padding='same')(x)\n",
    "    x = Conv2D(192, (3, 3),  strides=(1,1), padding='same', activation='relu')(x)\n",
    "    x = Conv2D(192, (3, 3),  strides=(1,1), padding='same', activation='relu')(x)\n",
    "    x = Conv2D(128, (3, 3),  strides=(1,1), padding='same', activation='relu')(x)\n",
    "    x = MaxPooling2D((2, 2), padding='same')(x)\n",
    "    x = Flatten()(x)\n",
    "    x = Dense(2048, activation='relu')(x)\n",
    "    x = Dense(2048, activation='relu')(x)\n",
    "    output = Dense(10, activation='softmax')(x)\n",
    "    model = Model(input_img, output, name=\"classifier\")\n",
    "    return model\n",
    "\n",
    "my_model = create_conv_net()\n",
    "my_model.summary()\n",
    "plot_model(my_model, to_file='my_model.png', show_shapes=True)"
   ]
  },
  {
   "cell_type": "markdown",
   "metadata": {},
   "source": [
    "## Training AlexNet"
   ]
  },
  {
   "cell_type": "markdown",
   "metadata": {},
   "source": [
    "Use training set for training the network to recognize objects. You might want to use RMSProp optimizer to speed up the training.\n",
    "\n",
    "Convolutional networks require a lot of computing power for training. Typical setup for training CNN is to use GPU, however, in this problem you are not required to do so. CPU will be fine as well.\n",
    "\n",
    "If you are using CPU for this subproblem, training process might be slow. You can stop it manually as soon as you get meaningful results.\n",
    "\n",
    "Report the results on the training and cross-validation sets. The report should contain the training logs."
   ]
  },
  {
   "cell_type": "code",
   "execution_count": 42,
   "metadata": {},
   "outputs": [],
   "source": [
    "from keras.callbacks import TensorBoard"
   ]
  },
  {
   "cell_type": "code",
   "execution_count": 50,
   "metadata": {},
   "outputs": [],
   "source": [
    "import shutil\n",
    "shutil.rmtree('tb')"
   ]
  },
  {
   "cell_type": "code",
   "execution_count": 51,
   "metadata": {},
   "outputs": [],
   "source": [
    "epoch_start = 0"
   ]
  },
  {
   "cell_type": "code",
   "execution_count": 52,
   "metadata": {
    "scrolled": true
   },
   "outputs": [
    {
     "name": "stdout",
     "output_type": "stream",
     "text": [
      "Train on 50000 samples, validate on 10000 samples\n",
      "Epoch 1/92\n",
      "50000/50000 [==============================] - 3s 60us/step - loss: 0.2109 - acc: 0.9364 - val_loss: 2.8450 - val_acc: 0.5734\n",
      "Epoch 2/92\n",
      "50000/50000 [==============================] - 3s 56us/step - loss: 0.1793 - acc: 0.9480 - val_loss: 3.0017 - val_acc: 0.5568\n",
      "Epoch 3/92\n",
      "50000/50000 [==============================] - 3s 55us/step - loss: 0.1959 - acc: 0.9420 - val_loss: 3.0865 - val_acc: 0.5864\n",
      "Epoch 4/92\n",
      "50000/50000 [==============================] - 3s 56us/step - loss: 0.1632 - acc: 0.9530 - val_loss: 2.9483 - val_acc: 0.5756\n",
      "Epoch 5/92\n",
      "50000/50000 [==============================] - 3s 55us/step - loss: 0.7732 - acc: 0.7675 - val_loss: 1.6902 - val_acc: 0.5427\n",
      "Epoch 6/92\n",
      "50000/50000 [==============================] - 3s 56us/step - loss: 0.4456 - acc: 0.8672 - val_loss: 2.3294 - val_acc: 0.5949\n",
      "Epoch 7/92\n",
      "50000/50000 [==============================] - 3s 57us/step - loss: 0.1870 - acc: 0.9472 - val_loss: 2.4778 - val_acc: 0.6082\n",
      "Epoch 8/92\n",
      "50000/50000 [==============================] - 3s 54us/step - loss: 0.1120 - acc: 0.9697 - val_loss: 2.8401 - val_acc: 0.6059\n",
      "Epoch 9/92\n",
      "50000/50000 [==============================] - 3s 55us/step - loss: 0.0800 - acc: 0.9810 - val_loss: 3.0304 - val_acc: 0.6088\n",
      "Epoch 10/92\n",
      "50000/50000 [==============================] - 3s 55us/step - loss: 0.0853 - acc: 0.9792 - val_loss: 3.2010 - val_acc: 0.6072\n",
      "Epoch 11/92\n",
      "50000/50000 [==============================] - 3s 56us/step - loss: 0.0822 - acc: 0.9798 - val_loss: 2.8682 - val_acc: 0.6033\n",
      "Epoch 12/92\n",
      "50000/50000 [==============================] - 3s 55us/step - loss: 0.0601 - acc: 0.9847 - val_loss: 3.3249 - val_acc: 0.6186\n",
      "Epoch 13/92\n",
      "50000/50000 [==============================] - 3s 58us/step - loss: 0.0882 - acc: 0.9782 - val_loss: 3.0948 - val_acc: 0.6104\n",
      "Epoch 14/92\n",
      "50000/50000 [==============================] - 3s 55us/step - loss: 0.1652 - acc: 0.9589 - val_loss: 2.3319 - val_acc: 0.6058\n",
      "Epoch 15/92\n",
      "50000/50000 [==============================] - 3s 54us/step - loss: 0.2702 - acc: 0.9243 - val_loss: 2.8173 - val_acc: 0.6126\n",
      "Epoch 16/92\n",
      "50000/50000 [==============================] - 3s 58us/step - loss: 0.1006 - acc: 0.9743 - val_loss: 3.1116 - val_acc: 0.6145\n",
      "Epoch 17/92\n",
      "50000/50000 [==============================] - 3s 55us/step - loss: 0.0362 - acc: 0.9931 - val_loss: 3.3642 - val_acc: 0.6152\n",
      "Epoch 18/92\n",
      "50000/50000 [==============================] - 3s 56us/step - loss: 0.0257 - acc: 0.9955 - val_loss: 3.6775 - val_acc: 0.6157\n",
      "Epoch 19/92\n",
      "50000/50000 [==============================] - 3s 56us/step - loss: 0.0411 - acc: 0.9911 - val_loss: 3.2416 - val_acc: 0.6135\n",
      "Epoch 20/92\n",
      "50000/50000 [==============================] - 3s 56us/step - loss: 0.0530 - acc: 0.9890 - val_loss: 3.4183 - val_acc: 0.6106\n",
      "Epoch 21/92\n",
      "50000/50000 [==============================] - 3s 56us/step - loss: 0.0517 - acc: 0.9883 - val_loss: 3.4520 - val_acc: 0.6130\n",
      "Epoch 22/92\n",
      "50000/50000 [==============================] - 3s 55us/step - loss: 0.0459 - acc: 0.9909 - val_loss: 3.4530 - val_acc: 0.6102\n",
      "Epoch 23/92\n",
      "50000/50000 [==============================] - 3s 57us/step - loss: 0.0693 - acc: 0.9849 - val_loss: 3.3843 - val_acc: 0.6116\n",
      "Epoch 24/92\n",
      "50000/50000 [==============================] - 3s 54us/step - loss: 0.1091 - acc: 0.9748 - val_loss: 2.9171 - val_acc: 0.6097\n",
      "Epoch 25/92\n",
      "50000/50000 [==============================] - 3s 56us/step - loss: 0.0541 - acc: 0.9893 - val_loss: 3.3503 - val_acc: 0.6135\n",
      "Epoch 26/92\n",
      "50000/50000 [==============================] - 3s 56us/step - loss: 0.0576 - acc: 0.9887 - val_loss: 3.3959 - val_acc: 0.6183\n",
      "Epoch 27/92\n",
      "50000/50000 [==============================] - 3s 55us/step - loss: 0.1294 - acc: 0.9694 - val_loss: 2.5086 - val_acc: 0.6096\n",
      "Epoch 28/92\n",
      "50000/50000 [==============================] - 3s 55us/step - loss: 0.0793 - acc: 0.9829 - val_loss: 3.1539 - val_acc: 0.6193\n",
      "Epoch 29/92\n",
      "50000/50000 [==============================] - 3s 55us/step - loss: 1.3944 - acc: 0.5311 - val_loss: 1.4620 - val_acc: 0.5397\n",
      "Epoch 30/92\n",
      "50000/50000 [==============================] - 3s 56us/step - loss: 0.7707 - acc: 0.7552 - val_loss: 1.8098 - val_acc: 0.5983\n",
      "Epoch 31/92\n",
      "50000/50000 [==============================] - 3s 56us/step - loss: 0.2451 - acc: 0.9300 - val_loss: 2.3099 - val_acc: 0.6128\n",
      "Epoch 32/92\n",
      "50000/50000 [==============================] - 3s 57us/step - loss: 0.1932 - acc: 0.9502 - val_loss: 1.9159 - val_acc: 0.5813\n",
      "Epoch 33/92\n",
      "50000/50000 [==============================] - 3s 54us/step - loss: 0.1617 - acc: 0.9538 - val_loss: 2.7059 - val_acc: 0.6137\n",
      "Epoch 34/92\n",
      "50000/50000 [==============================] - 3s 57us/step - loss: 0.0401 - acc: 0.9901 - val_loss: 3.1192 - val_acc: 0.6184\n",
      "Epoch 35/92\n",
      "50000/50000 [==============================] - 3s 56us/step - loss: 0.0254 - acc: 0.9952 - val_loss: 3.2384 - val_acc: 0.6128\n",
      "Epoch 36/92\n",
      "50000/50000 [==============================] - 3s 55us/step - loss: 0.0342 - acc: 0.9921 - val_loss: 3.5569 - val_acc: 0.6170\n",
      "Epoch 37/92\n",
      "50000/50000 [==============================] - 3s 55us/step - loss: 0.0205 - acc: 0.9960 - val_loss: 3.5791 - val_acc: 0.6197\n",
      "Epoch 38/92\n",
      "50000/50000 [==============================] - 3s 55us/step - loss: 0.0159 - acc: 0.9974 - val_loss: 3.7251 - val_acc: 0.6183\n",
      "Epoch 39/92\n",
      "50000/50000 [==============================] - 3s 57us/step - loss: 0.0165 - acc: 0.9970 - val_loss: 3.7657 - val_acc: 0.6179\n",
      "Epoch 40/92\n",
      "50000/50000 [==============================] - 3s 56us/step - loss: 0.0153 - acc: 0.9975 - val_loss: 3.9680 - val_acc: 0.6127\n",
      "Epoch 41/92\n",
      "50000/50000 [==============================] - 3s 56us/step - loss: 0.0737 - acc: 0.9830 - val_loss: 2.9669 - val_acc: 0.6102\n",
      "Epoch 42/92\n",
      "50000/50000 [==============================] - 3s 57us/step - loss: 0.0826 - acc: 0.9839 - val_loss: 3.5937 - val_acc: 0.6054\n",
      "Epoch 43/92\n",
      "50000/50000 [==============================] - 3s 56us/step - loss: 0.0389 - acc: 0.9933 - val_loss: 3.6189 - val_acc: 0.6115\n",
      "Epoch 44/92\n",
      "50000/50000 [==============================] - 3s 58us/step - loss: 0.1076 - acc: 0.9757 - val_loss: 3.0050 - val_acc: 0.6109\n",
      "Epoch 45/92\n",
      "50000/50000 [==============================] - 3s 55us/step - loss: 0.0464 - acc: 0.9918 - val_loss: 3.4345 - val_acc: 0.6208\n",
      "Epoch 46/92\n",
      "50000/50000 [==============================] - 3s 56us/step - loss: 0.0365 - acc: 0.9944 - val_loss: 3.5029 - val_acc: 0.6172\n",
      "Epoch 47/92\n",
      "50000/50000 [==============================] - 3s 55us/step - loss: 0.0416 - acc: 0.9944 - val_loss: 3.6008 - val_acc: 0.6135\n",
      "Epoch 48/92\n",
      "50000/50000 [==============================] - 3s 57us/step - loss: 0.0531 - acc: 0.9912 - val_loss: 3.5073 - val_acc: 0.6192\n",
      "Epoch 49/92\n",
      "50000/50000 [==============================] - 3s 54us/step - loss: 0.1065 - acc: 0.9776 - val_loss: 2.8435 - val_acc: 0.6160\n",
      "Epoch 50/92\n",
      "50000/50000 [==============================] - 3s 57us/step - loss: 0.0728 - acc: 0.9820 - val_loss: 2.9962 - val_acc: 0.6057\n",
      "Epoch 51/92\n",
      "50000/50000 [==============================] - 3s 54us/step - loss: 0.0321 - acc: 0.9934 - val_loss: 3.4181 - val_acc: 0.6185\n",
      "Epoch 52/92\n",
      "50000/50000 [==============================] - 3s 54us/step - loss: 0.0215 - acc: 0.9963 - val_loss: 3.6895 - val_acc: 0.6104\n",
      "Epoch 53/92\n",
      "50000/50000 [==============================] - 3s 58us/step - loss: 0.0387 - acc: 0.9927 - val_loss: 3.4413 - val_acc: 0.6088\n",
      "Epoch 54/92\n",
      "50000/50000 [==============================] - 3s 57us/step - loss: 0.0456 - acc: 0.9917 - val_loss: 3.5054 - val_acc: 0.6126\n",
      "Epoch 55/92\n",
      "50000/50000 [==============================] - 3s 55us/step - loss: 0.0840 - acc: 0.9835 - val_loss: 3.3254 - val_acc: 0.6044\n",
      "Epoch 56/92\n",
      "50000/50000 [==============================] - 3s 54us/step - loss: 0.0501 - acc: 0.9899 - val_loss: 3.5586 - val_acc: 0.6014\n",
      "Epoch 57/92\n",
      "50000/50000 [==============================] - 3s 56us/step - loss: 0.0421 - acc: 0.9931 - val_loss: 3.5371 - val_acc: 0.6136\n",
      "Epoch 58/92\n",
      "50000/50000 [==============================] - 3s 56us/step - loss: 0.0543 - acc: 0.9923 - val_loss: 3.5581 - val_acc: 0.6131\n",
      "Epoch 59/92\n",
      "50000/50000 [==============================] - 3s 55us/step - loss: 0.3424 - acc: 0.9149 - val_loss: 2.7975 - val_acc: 0.6102\n",
      "Epoch 60/92\n"
     ]
    },
    {
     "name": "stdout",
     "output_type": "stream",
     "text": [
      "50000/50000 [==============================] - 3s 53us/step - loss: 0.0626 - acc: 0.9889 - val_loss: 3.2843 - val_acc: 0.6201\n",
      "Epoch 61/92\n",
      "50000/50000 [==============================] - 3s 56us/step - loss: 0.0371 - acc: 0.9943 - val_loss: 3.5157 - val_acc: 0.6100\n",
      "Epoch 62/92\n",
      "50000/50000 [==============================] - 3s 57us/step - loss: 0.0416 - acc: 0.9933 - val_loss: 3.4504 - val_acc: 0.6239\n",
      "Epoch 63/92\n",
      "50000/50000 [==============================] - 3s 56us/step - loss: 0.0311 - acc: 0.9953 - val_loss: 3.7355 - val_acc: 0.6195\n",
      "Epoch 64/92\n",
      "50000/50000 [==============================] - 3s 55us/step - loss: 0.0269 - acc: 0.9954 - val_loss: 3.7134 - val_acc: 0.6138\n",
      "Epoch 65/92\n",
      "50000/50000 [==============================] - 3s 56us/step - loss: 0.0452 - acc: 0.9934 - val_loss: 3.6916 - val_acc: 0.6136\n",
      "Epoch 66/92\n",
      "50000/50000 [==============================] - 3s 57us/step - loss: 0.2144 - acc: 0.9505 - val_loss: 2.7005 - val_acc: 0.6098\n",
      "Epoch 67/92\n",
      "50000/50000 [==============================] - 3s 57us/step - loss: 0.0454 - acc: 0.9899 - val_loss: 3.2319 - val_acc: 0.6216\n",
      "Epoch 68/92\n",
      "50000/50000 [==============================] - 3s 58us/step - loss: 0.0179 - acc: 0.9973 - val_loss: 3.6546 - val_acc: 0.6160\n",
      "Epoch 69/92\n",
      "50000/50000 [==============================] - 3s 56us/step - loss: 0.0284 - acc: 0.9948 - val_loss: 3.5785 - val_acc: 0.6173\n",
      "Epoch 70/92\n",
      "50000/50000 [==============================] - 3s 57us/step - loss: 0.0394 - acc: 0.9921 - val_loss: 3.4083 - val_acc: 0.6131\n",
      "Epoch 71/92\n",
      "50000/50000 [==============================] - 3s 54us/step - loss: 0.0395 - acc: 0.9928 - val_loss: 3.5002 - val_acc: 0.6070\n",
      "Epoch 72/92\n",
      "50000/50000 [==============================] - 3s 59us/step - loss: 0.0887 - acc: 0.9806 - val_loss: 3.6419 - val_acc: 0.6021\n",
      "Epoch 73/92\n",
      "50000/50000 [==============================] - 3s 57us/step - loss: 0.0695 - acc: 0.9865 - val_loss: 3.3167 - val_acc: 0.6101\n",
      "Epoch 74/92\n",
      "50000/50000 [==============================] - 3s 58us/step - loss: 0.0452 - acc: 0.9919 - val_loss: 3.4523 - val_acc: 0.6149\n",
      "Epoch 75/92\n",
      "50000/50000 [==============================] - 3s 58us/step - loss: 0.0326 - acc: 0.9962 - val_loss: 3.9431 - val_acc: 0.6157\n",
      "Epoch 76/92\n",
      "50000/50000 [==============================] - 3s 59us/step - loss: 0.0784 - acc: 0.9854 - val_loss: 3.1921 - val_acc: 0.6099\n",
      "Epoch 77/92\n",
      "50000/50000 [==============================] - 3s 55us/step - loss: 0.1140 - acc: 0.9771 - val_loss: 2.3532 - val_acc: 0.5933\n",
      "Epoch 78/92\n",
      "50000/50000 [==============================] - 3s 59us/step - loss: 0.0569 - acc: 0.9886 - val_loss: 3.3398 - val_acc: 0.6137\n",
      "Epoch 79/92\n",
      "50000/50000 [==============================] - 3s 57us/step - loss: 0.0595 - acc: 0.9907 - val_loss: 3.5671 - val_acc: 0.6116\n",
      "Epoch 80/92\n",
      "50000/50000 [==============================] - 3s 55us/step - loss: 0.4527 - acc: 0.8902 - val_loss: 2.6286 - val_acc: 0.5979\n",
      "Epoch 81/92\n",
      "50000/50000 [==============================] - 3s 54us/step - loss: 0.0565 - acc: 0.9878 - val_loss: 3.1402 - val_acc: 0.6144\n",
      "Epoch 82/92\n",
      "50000/50000 [==============================] - 3s 56us/step - loss: 0.0355 - acc: 0.9957 - val_loss: 3.5854 - val_acc: 0.6176\n",
      "Epoch 83/92\n",
      "50000/50000 [==============================] - 3s 56us/step - loss: 0.0507 - acc: 0.9943 - val_loss: 3.7019 - val_acc: 0.6174\n",
      "Epoch 84/92\n",
      "50000/50000 [==============================] - 3s 57us/step - loss: 0.0441 - acc: 0.9965 - val_loss: 3.8909 - val_acc: 0.6150\n",
      "Epoch 85/92\n",
      "50000/50000 [==============================] - 3s 58us/step - loss: 0.0476 - acc: 0.9920 - val_loss: 3.4750 - val_acc: 0.6135\n",
      "Epoch 86/92\n",
      "50000/50000 [==============================] - 3s 55us/step - loss: 0.0342 - acc: 0.9943 - val_loss: 3.5995 - val_acc: 0.6139\n",
      "Epoch 87/92\n",
      "50000/50000 [==============================] - 3s 58us/step - loss: 0.0257 - acc: 0.9965 - val_loss: 3.7227 - val_acc: 0.6126\n",
      "Epoch 88/92\n",
      "50000/50000 [==============================] - 3s 57us/step - loss: 0.0367 - acc: 0.9951 - val_loss: 3.6736 - val_acc: 0.6099\n",
      "Epoch 89/92\n",
      "50000/50000 [==============================] - 3s 57us/step - loss: 0.0383 - acc: 0.9949 - val_loss: 3.6830 - val_acc: 0.6120\n",
      "Epoch 90/92\n",
      "50000/50000 [==============================] - 3s 57us/step - loss: 0.0470 - acc: 0.9933 - val_loss: 3.6405 - val_acc: 0.6064\n",
      "Epoch 91/92\n",
      "50000/50000 [==============================] - 3s 58us/step - loss: 0.0539 - acc: 0.9920 - val_loss: 3.7224 - val_acc: 0.6088\n",
      "Epoch 92/92\n",
      "50000/50000 [==============================] - 3s 57us/step - loss: 0.0530 - acc: 0.9937 - val_loss: 3.4811 - val_acc: 0.6110\n"
     ]
    },
    {
     "data": {
      "text/plain": [
       "<keras.callbacks.History at 0x7f8dfe948b00>"
      ]
     },
     "execution_count": 52,
     "metadata": {},
     "output_type": "execute_result"
    }
   ],
   "source": [
    "my_model.compile(optimizer='Adam', loss='categorical_crossentropy', metrics=['accuracy'])\n",
    "my_model.fit(train_images, train_y,\n",
    "             initial_epoch=epoch_start,\n",
    "             epochs=92,\n",
    "             batch_size=256,\n",
    "             shuffle=True,\n",
    "             validation_data=(cv_images, cv_y),\n",
    "             callbacks=[TensorBoard(log_dir='tb')])"
   ]
  },
  {
   "cell_type": "code",
   "execution_count": 60,
   "metadata": {},
   "outputs": [
    {
     "name": "stdout",
     "output_type": "stream",
     "text": [
      "Test accuracy: 61.1%\n"
     ]
    }
   ],
   "source": [
    "# score = my_model.evaluate(cv_images, cv_y, verbose=1)\n",
    "print('Test accuracy: {}%'.format(100*score[1]))"
   ]
  },
  {
   "cell_type": "markdown",
   "metadata": {},
   "source": [
    "## Improving AlexNet"
   ]
  },
  {
   "cell_type": "markdown",
   "metadata": {},
   "source": [
    "As you can see, AlexNet does not work very well on such a small dataset. Recall what you have learned from this class to improve its performance. You can also take a look at the [Dropout technique](https://www.cs.toronto.edu/~hinton/absps/JMLRdropout.pdf) and its [implementation in Keras](https://keras.io/layers/core/#dropout). "
   ]
  },
  {
   "cell_type": "code",
   "execution_count": 35,
   "metadata": {},
   "outputs": [
    {
     "name": "stdout",
     "output_type": "stream",
     "text": [
      "_________________________________________________________________\n",
      "Layer (type)                 Output Shape              Param #   \n",
      "=================================================================\n",
      "input_6 (InputLayer)         (None, 32, 32, 3)         0         \n",
      "_________________________________________________________________\n",
      "conv2d_27 (Conv2D)           (None, 32, 32, 48)        1344      \n",
      "_________________________________________________________________\n",
      "max_pooling2d_16 (MaxPooling (None, 16, 16, 48)        0         \n",
      "_________________________________________________________________\n",
      "conv2d_28 (Conv2D)           (None, 16, 16, 128)       153728    \n",
      "_________________________________________________________________\n",
      "max_pooling2d_17 (MaxPooling (None, 8, 8, 128)         0         \n",
      "_________________________________________________________________\n",
      "conv2d_29 (Conv2D)           (None, 8, 8, 192)         221376    \n",
      "_________________________________________________________________\n",
      "conv2d_30 (Conv2D)           (None, 8, 8, 192)         331968    \n",
      "_________________________________________________________________\n",
      "conv2d_31 (Conv2D)           (None, 8, 8, 128)         221312    \n",
      "_________________________________________________________________\n",
      "max_pooling2d_18 (MaxPooling (None, 4, 4, 128)         0         \n",
      "_________________________________________________________________\n",
      "flatten_4 (Flatten)          (None, 2048)              0         \n",
      "_________________________________________________________________\n",
      "dense_13 (Dense)             (None, 2048)              4196352   \n",
      "_________________________________________________________________\n",
      "dense_14 (Dense)             (None, 2048)              4196352   \n",
      "_________________________________________________________________\n",
      "dense_15 (Dense)             (None, 10)                20490     \n",
      "=================================================================\n",
      "Total params: 9,342,922\n",
      "Trainable params: 9,342,922\n",
      "Non-trainable params: 0\n",
      "_________________________________________________________________\n"
     ]
    }
   ],
   "source": [
    "from keras.models import Model\n",
    "from keras.layers import Input, Conv2D, MaxPooling2D, UpSampling2D, Flatten, Dense\n",
    "from keras.optimizers import Adam\n",
    "from keras.utils import plot_model\n",
    "\n",
    "def create_conv_net():\n",
    "    input_img = Input(shape=(32, 32, 3))\n",
    "\n",
    "    x = Conv2D(48, (3, 3), strides=(1,1), padding='same', activation='relu')(input_img)\n",
    "    x = MaxPooling2D((2, 2), padding='same')(x)\n",
    "    x = Conv2D(128, (5, 5),  strides=(1,1), padding='same', activation='relu')(x)\n",
    "    x = MaxPooling2D((2, 2), padding='same')(x)\n",
    "    x = Conv2D(192, (3, 3),  strides=(1,1), padding='same', activation='relu')(x)\n",
    "    x = Conv2D(192, (3, 3),  strides=(1,1), padding='same', activation='relu')(x)\n",
    "    x = Conv2D(128, (3, 3),  strides=(1,1), padding='same', activation='relu')(x)\n",
    "    x = MaxPooling2D((2, 2), padding='same')(x)\n",
    "    x = Flatten()(x)\n",
    "    x = Dense(2048, activation='relu')(x)\n",
    "    x = Dense(2048, activation='relu')(x)\n",
    "    output = Dense(10, activation='softmax')(x)\n",
    "    model = Model(input_img, output, name=\"classifier\")\n",
    "    return model\n",
    "\n",
    "my_model = create_conv_net()\n",
    "my_model.summary()\n",
    "plot_model(my_model, to_file='my_model.png', show_shapes=True)"
   ]
  },
  {
   "cell_type": "code",
   "execution_count": 37,
   "metadata": {},
   "outputs": [
    {
     "name": "stdout",
     "output_type": "stream",
     "text": [
      "Train on 50000 samples, validate on 10000 samples\n",
      "Epoch 1/50\n",
      "50000/50000 [==============================] - 7s 130us/step - loss: 14.5063 - acc: 0.1000 - val_loss: 14.5063 - val_acc: 0.1000\n",
      "Epoch 2/50\n",
      "50000/50000 [==============================] - 6s 116us/step - loss: 14.5063 - acc: 0.1000 - val_loss: 14.5063 - val_acc: 0.1000\n",
      "Epoch 3/50\n",
      "50000/50000 [==============================] - 6s 115us/step - loss: 14.5063 - acc: 0.1000 - val_loss: 14.5063 - val_acc: 0.1000\n",
      "Epoch 4/50\n",
      "50000/50000 [==============================] - 6s 116us/step - loss: 14.5063 - acc: 0.1000 - val_loss: 14.5063 - val_acc: 0.1000\n",
      "Epoch 5/50\n",
      "44800/50000 [=========================>....] - ETA: 0s - loss: 14.4915 - acc: 0.1009"
     ]
    },
    {
     "ename": "KeyboardInterrupt",
     "evalue": "",
     "output_type": "error",
     "traceback": [
      "\u001b[0;31m---------------------------------------------------------------------------\u001b[0m",
      "\u001b[0;31mKeyboardInterrupt\u001b[0m                         Traceback (most recent call last)",
      "\u001b[0;32m<ipython-input-37-ac3e2c937070>\u001b[0m in \u001b[0;36m<module>\u001b[0;34m\u001b[0m\n\u001b[1;32m      4\u001b[0m              \u001b[0mbatch_size\u001b[0m\u001b[0;34m=\u001b[0m\u001b[0;36m256\u001b[0m\u001b[0;34m,\u001b[0m\u001b[0;34m\u001b[0m\u001b[0;34m\u001b[0m\u001b[0m\n\u001b[1;32m      5\u001b[0m              \u001b[0mshuffle\u001b[0m\u001b[0;34m=\u001b[0m\u001b[0;32mTrue\u001b[0m\u001b[0;34m,\u001b[0m\u001b[0;34m\u001b[0m\u001b[0;34m\u001b[0m\u001b[0m\n\u001b[0;32m----> 6\u001b[0;31m              validation_data=(cv_images, cv_y))\n\u001b[0m",
      "\u001b[0;32m~/.conda/envs/py37/lib/python3.6/site-packages/keras/engine/training.py\u001b[0m in \u001b[0;36mfit\u001b[0;34m(self, x, y, batch_size, epochs, verbose, callbacks, validation_split, validation_data, shuffle, class_weight, sample_weight, initial_epoch, steps_per_epoch, validation_steps, **kwargs)\u001b[0m\n\u001b[1;32m   1037\u001b[0m                                         \u001b[0minitial_epoch\u001b[0m\u001b[0;34m=\u001b[0m\u001b[0minitial_epoch\u001b[0m\u001b[0;34m,\u001b[0m\u001b[0;34m\u001b[0m\u001b[0;34m\u001b[0m\u001b[0m\n\u001b[1;32m   1038\u001b[0m                                         \u001b[0msteps_per_epoch\u001b[0m\u001b[0;34m=\u001b[0m\u001b[0msteps_per_epoch\u001b[0m\u001b[0;34m,\u001b[0m\u001b[0;34m\u001b[0m\u001b[0;34m\u001b[0m\u001b[0m\n\u001b[0;32m-> 1039\u001b[0;31m                                         validation_steps=validation_steps)\n\u001b[0m\u001b[1;32m   1040\u001b[0m \u001b[0;34m\u001b[0m\u001b[0m\n\u001b[1;32m   1041\u001b[0m     def evaluate(self, x=None, y=None,\n",
      "\u001b[0;32m~/.conda/envs/py37/lib/python3.6/site-packages/keras/engine/training_arrays.py\u001b[0m in \u001b[0;36mfit_loop\u001b[0;34m(model, f, ins, out_labels, batch_size, epochs, verbose, callbacks, val_f, val_ins, shuffle, callback_metrics, initial_epoch, steps_per_epoch, validation_steps)\u001b[0m\n\u001b[1;32m    197\u001b[0m                     \u001b[0mins_batch\u001b[0m\u001b[0;34m[\u001b[0m\u001b[0mi\u001b[0m\u001b[0;34m]\u001b[0m \u001b[0;34m=\u001b[0m \u001b[0mins_batch\u001b[0m\u001b[0;34m[\u001b[0m\u001b[0mi\u001b[0m\u001b[0;34m]\u001b[0m\u001b[0;34m.\u001b[0m\u001b[0mtoarray\u001b[0m\u001b[0;34m(\u001b[0m\u001b[0;34m)\u001b[0m\u001b[0;34m\u001b[0m\u001b[0;34m\u001b[0m\u001b[0m\n\u001b[1;32m    198\u001b[0m \u001b[0;34m\u001b[0m\u001b[0m\n\u001b[0;32m--> 199\u001b[0;31m                 \u001b[0mouts\u001b[0m \u001b[0;34m=\u001b[0m \u001b[0mf\u001b[0m\u001b[0;34m(\u001b[0m\u001b[0mins_batch\u001b[0m\u001b[0;34m)\u001b[0m\u001b[0;34m\u001b[0m\u001b[0;34m\u001b[0m\u001b[0m\n\u001b[0m\u001b[1;32m    200\u001b[0m                 \u001b[0mouts\u001b[0m \u001b[0;34m=\u001b[0m \u001b[0mto_list\u001b[0m\u001b[0;34m(\u001b[0m\u001b[0mouts\u001b[0m\u001b[0;34m)\u001b[0m\u001b[0;34m\u001b[0m\u001b[0;34m\u001b[0m\u001b[0m\n\u001b[1;32m    201\u001b[0m                 \u001b[0;32mfor\u001b[0m \u001b[0ml\u001b[0m\u001b[0;34m,\u001b[0m \u001b[0mo\u001b[0m \u001b[0;32min\u001b[0m \u001b[0mzip\u001b[0m\u001b[0;34m(\u001b[0m\u001b[0mout_labels\u001b[0m\u001b[0;34m,\u001b[0m \u001b[0mouts\u001b[0m\u001b[0;34m)\u001b[0m\u001b[0;34m:\u001b[0m\u001b[0;34m\u001b[0m\u001b[0;34m\u001b[0m\u001b[0m\n",
      "\u001b[0;32m~/.conda/envs/py37/lib/python3.6/site-packages/keras/backend/tensorflow_backend.py\u001b[0m in \u001b[0;36m__call__\u001b[0;34m(self, inputs)\u001b[0m\n\u001b[1;32m   2713\u001b[0m                 \u001b[0;32mreturn\u001b[0m \u001b[0mself\u001b[0m\u001b[0;34m.\u001b[0m\u001b[0m_legacy_call\u001b[0m\u001b[0;34m(\u001b[0m\u001b[0minputs\u001b[0m\u001b[0;34m)\u001b[0m\u001b[0;34m\u001b[0m\u001b[0;34m\u001b[0m\u001b[0m\n\u001b[1;32m   2714\u001b[0m \u001b[0;34m\u001b[0m\u001b[0m\n\u001b[0;32m-> 2715\u001b[0;31m             \u001b[0;32mreturn\u001b[0m \u001b[0mself\u001b[0m\u001b[0;34m.\u001b[0m\u001b[0m_call\u001b[0m\u001b[0;34m(\u001b[0m\u001b[0minputs\u001b[0m\u001b[0;34m)\u001b[0m\u001b[0;34m\u001b[0m\u001b[0;34m\u001b[0m\u001b[0m\n\u001b[0m\u001b[1;32m   2716\u001b[0m         \u001b[0;32melse\u001b[0m\u001b[0;34m:\u001b[0m\u001b[0;34m\u001b[0m\u001b[0;34m\u001b[0m\u001b[0m\n\u001b[1;32m   2717\u001b[0m             \u001b[0;32mif\u001b[0m \u001b[0mpy_any\u001b[0m\u001b[0;34m(\u001b[0m\u001b[0mis_tensor\u001b[0m\u001b[0;34m(\u001b[0m\u001b[0mx\u001b[0m\u001b[0;34m)\u001b[0m \u001b[0;32mfor\u001b[0m \u001b[0mx\u001b[0m \u001b[0;32min\u001b[0m \u001b[0minputs\u001b[0m\u001b[0;34m)\u001b[0m\u001b[0;34m:\u001b[0m\u001b[0;34m\u001b[0m\u001b[0;34m\u001b[0m\u001b[0m\n",
      "\u001b[0;32m~/.conda/envs/py37/lib/python3.6/site-packages/keras/backend/tensorflow_backend.py\u001b[0m in \u001b[0;36m_call\u001b[0;34m(self, inputs)\u001b[0m\n\u001b[1;32m   2673\u001b[0m             \u001b[0mfetched\u001b[0m \u001b[0;34m=\u001b[0m \u001b[0mself\u001b[0m\u001b[0;34m.\u001b[0m\u001b[0m_callable_fn\u001b[0m\u001b[0;34m(\u001b[0m\u001b[0;34m*\u001b[0m\u001b[0marray_vals\u001b[0m\u001b[0;34m,\u001b[0m \u001b[0mrun_metadata\u001b[0m\u001b[0;34m=\u001b[0m\u001b[0mself\u001b[0m\u001b[0;34m.\u001b[0m\u001b[0mrun_metadata\u001b[0m\u001b[0;34m)\u001b[0m\u001b[0;34m\u001b[0m\u001b[0;34m\u001b[0m\u001b[0m\n\u001b[1;32m   2674\u001b[0m         \u001b[0;32melse\u001b[0m\u001b[0;34m:\u001b[0m\u001b[0;34m\u001b[0m\u001b[0;34m\u001b[0m\u001b[0m\n\u001b[0;32m-> 2675\u001b[0;31m             \u001b[0mfetched\u001b[0m \u001b[0;34m=\u001b[0m \u001b[0mself\u001b[0m\u001b[0;34m.\u001b[0m\u001b[0m_callable_fn\u001b[0m\u001b[0;34m(\u001b[0m\u001b[0;34m*\u001b[0m\u001b[0marray_vals\u001b[0m\u001b[0;34m)\u001b[0m\u001b[0;34m\u001b[0m\u001b[0;34m\u001b[0m\u001b[0m\n\u001b[0m\u001b[1;32m   2676\u001b[0m         \u001b[0;32mreturn\u001b[0m \u001b[0mfetched\u001b[0m\u001b[0;34m[\u001b[0m\u001b[0;34m:\u001b[0m\u001b[0mlen\u001b[0m\u001b[0;34m(\u001b[0m\u001b[0mself\u001b[0m\u001b[0;34m.\u001b[0m\u001b[0moutputs\u001b[0m\u001b[0;34m)\u001b[0m\u001b[0;34m]\u001b[0m\u001b[0;34m\u001b[0m\u001b[0;34m\u001b[0m\u001b[0m\n\u001b[1;32m   2677\u001b[0m \u001b[0;34m\u001b[0m\u001b[0m\n",
      "\u001b[0;32m~/.conda/envs/py37/lib/python3.6/site-packages/tensorflow/python/client/session.py\u001b[0m in \u001b[0;36m__call__\u001b[0;34m(self, *args, **kwargs)\u001b[0m\n\u001b[1;32m   1437\u001b[0m           ret = tf_session.TF_SessionRunCallable(\n\u001b[1;32m   1438\u001b[0m               \u001b[0mself\u001b[0m\u001b[0;34m.\u001b[0m\u001b[0m_session\u001b[0m\u001b[0;34m.\u001b[0m\u001b[0m_session\u001b[0m\u001b[0;34m,\u001b[0m \u001b[0mself\u001b[0m\u001b[0;34m.\u001b[0m\u001b[0m_handle\u001b[0m\u001b[0;34m,\u001b[0m \u001b[0margs\u001b[0m\u001b[0;34m,\u001b[0m \u001b[0mstatus\u001b[0m\u001b[0;34m,\u001b[0m\u001b[0;34m\u001b[0m\u001b[0;34m\u001b[0m\u001b[0m\n\u001b[0;32m-> 1439\u001b[0;31m               run_metadata_ptr)\n\u001b[0m\u001b[1;32m   1440\u001b[0m         \u001b[0;32mif\u001b[0m \u001b[0mrun_metadata\u001b[0m\u001b[0;34m:\u001b[0m\u001b[0;34m\u001b[0m\u001b[0;34m\u001b[0m\u001b[0m\n\u001b[1;32m   1441\u001b[0m           \u001b[0mproto_data\u001b[0m \u001b[0;34m=\u001b[0m \u001b[0mtf_session\u001b[0m\u001b[0;34m.\u001b[0m\u001b[0mTF_GetBuffer\u001b[0m\u001b[0;34m(\u001b[0m\u001b[0mrun_metadata_ptr\u001b[0m\u001b[0;34m)\u001b[0m\u001b[0;34m\u001b[0m\u001b[0;34m\u001b[0m\u001b[0m\n",
      "\u001b[0;31mKeyboardInterrupt\u001b[0m: "
     ]
    }
   ],
   "source": [
    "my_model.compile(optimizer='RMSProp', loss='categorical_crossentropy', metrics=['accuracy'])\n",
    "my_model.fit(train_images, train_y,\n",
    "             epochs=50,\n",
    "             batch_size=256,\n",
    "             shuffle=True,\n",
    "             validation_data=(cv_images, cv_y))"
   ]
  },
  {
   "cell_type": "code",
   "execution_count": null,
   "metadata": {},
   "outputs": [],
   "source": []
  }
 ],
 "metadata": {
  "kernelspec": {
   "display_name": "Python 3",
   "language": "python",
   "name": "python3"
  },
  "language_info": {
   "codemirror_mode": {
    "name": "ipython",
    "version": 3
   },
   "file_extension": ".py",
   "mimetype": "text/x-python",
   "name": "python",
   "nbconvert_exporter": "python",
   "pygments_lexer": "ipython3",
   "version": "3.6.8"
  }
 },
 "nbformat": 4,
 "nbformat_minor": 2
}
