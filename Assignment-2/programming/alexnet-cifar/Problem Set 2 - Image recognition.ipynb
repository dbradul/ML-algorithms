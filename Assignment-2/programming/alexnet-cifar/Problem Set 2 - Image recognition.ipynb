{
  "nbformat": 4,
  "nbformat_minor": 0,
  "metadata": {
    "colab": {
      "name": "Problem Set 2 - Image recognition.ipynb",
      "version": "0.3.2",
      "provenance": [],
      "collapsed_sections": [
        "ROssOKvTeX3K",
        "e-K-vXgWLVae",
        "5HIZnC3-eX31"
      ]
    },
    "kernelspec": {
      "name": "python3",
      "display_name": "Python 3"
    },
    "accelerator": "GPU"
  },
  "cells": [
    {
      "metadata": {
        "id": "5Bbpur1IeX25",
        "colab_type": "text"
      },
      "cell_type": "markdown",
      "source": [
        "# Convolutional neural networks"
      ]
    },
    {
      "metadata": {
        "id": "PDXC0GobeX2-",
        "colab_type": "text"
      },
      "cell_type": "markdown",
      "source": [
        "Olexander Chepurnoi, Yaroslava Lochman"
      ]
    },
    {
      "metadata": {
        "id": "-_ZsSduqeX3B",
        "colab_type": "code",
        "outputId": "49e0b057-d0c3-4d20-b3eb-8c4e5e064a7b",
        "colab": {
          "base_uri": "https://localhost:8080/",
          "height": 49
        }
      },
      "cell_type": "code",
      "source": [
        "_colab = True\n",
        "if _colab:\n",
        "  print('Using Google Colab')\n",
        "  \n",
        "  # !pip install -U -q PyDrive\n",
        "  from pydrive.auth import GoogleAuth\n",
        "  from pydrive.drive import GoogleDrive \n",
        "  from google.colab import auth \n",
        "  from oauth2client.client import GoogleCredentials\n",
        "  auth.authenticate_user()\n",
        "  gauth = GoogleAuth()\n",
        "  gauth.credentials = GoogleCredentials.get_application_default()\n",
        "  drive = GoogleDrive(gauth)\n",
        "  \n",
        "  # !pip install tensorboardcolab\n",
        "  from tensorboardcolab import *\n",
        "  \n",
        "import pickle\n",
        "import numpy as np\n",
        "import keras\n",
        "import matplotlib.pyplot as plt\n",
        "print('Keras version using:', keras.__version__)"
      ],
      "execution_count": 145,
      "outputs": [
        {
          "output_type": "stream",
          "text": [
            "Using Google Colab\n",
            "Keras version using: 2.2.4\n"
          ],
          "name": "stdout"
        }
      ]
    },
    {
      "metadata": {
        "id": "QyyG9EK8m_KF",
        "colab_type": "code",
        "colab": {}
      },
      "cell_type": "code",
      "source": [
        "from keras.utils import np_utils\n",
        "from keras.datasets import cifar10\n",
        "from keras.preprocessing.image import ImageDataGenerator\n",
        "\n",
        "from keras.callbacks import TensorBoard\n",
        "from keras.models import Model, Sequential\n",
        "from keras.layers import *\n",
        "from keras.optimizers import Adam\n",
        "from keras.utils import plot_model\n",
        "\n"
      ],
      "execution_count": 0,
      "outputs": []
    },
    {
      "metadata": {
        "id": "ROssOKvTeX3K",
        "colab_type": "text"
      },
      "cell_type": "markdown",
      "source": [
        "## Loading images"
      ]
    },
    {
      "metadata": {
        "id": "A1F9GLJ6eX3N",
        "colab_type": "code",
        "colab": {}
      },
      "cell_type": "code",
      "source": [
        "if _colab:\n",
        "  from keras.datasets import cifar10\n",
        "  (train_images, train_labels), (cv_images, cv_labels) = cifar10.load_data()\n",
        "else:\n",
        "  train_images, train_labels = pickle.load(open('data/train_set_all.pkl', 'rb'))\n",
        "  cv_images, cv_labels = pickle.load(open('data/test_set_all.pkl', 'rb'))"
      ],
      "execution_count": 0,
      "outputs": []
    },
    {
      "metadata": {
        "id": "q2z38okReX3W",
        "colab_type": "code",
        "colab": {
          "base_uri": "https://localhost:8080/",
          "height": 49
        },
        "outputId": "40b5e0b3-82c4-4fa5-c2dc-a6b4a4ece58f"
      },
      "cell_type": "code",
      "source": [
        "print(train_images.shape)\n",
        "print(len(train_labels))"
      ],
      "execution_count": 26,
      "outputs": [
        {
          "output_type": "stream",
          "text": [
            "(50000, 32, 32, 3)\n",
            "50000\n"
          ],
          "name": "stdout"
        }
      ]
    },
    {
      "metadata": {
        "id": "lzdIcxzEeX3a",
        "colab_type": "code",
        "colab": {
          "base_uri": "https://localhost:8080/",
          "height": 49
        },
        "outputId": "ed88564c-fca1-4a32-d4f6-fb73e92fe972"
      },
      "cell_type": "code",
      "source": [
        "print(cv_images.shape)\n",
        "print(len(cv_labels))"
      ],
      "execution_count": 27,
      "outputs": [
        {
          "output_type": "stream",
          "text": [
            "(10000, 32, 32, 3)\n",
            "10000\n"
          ],
          "name": "stdout"
        }
      ]
    },
    {
      "metadata": {
        "id": "8l5N_PjReX3f",
        "colab_type": "code",
        "colab": {
          "base_uri": "https://localhost:8080/",
          "height": 181
        },
        "outputId": "4ddf983c-ac29-4d6a-be09-67ec994f58c4"
      },
      "cell_type": "code",
      "source": [
        "print(train_labels[0:10])"
      ],
      "execution_count": 28,
      "outputs": [
        {
          "output_type": "stream",
          "text": [
            "[[6]\n",
            " [9]\n",
            " [9]\n",
            " [4]\n",
            " [1]\n",
            " [1]\n",
            " [2]\n",
            " [7]\n",
            " [8]\n",
            " [3]]\n"
          ],
          "name": "stdout"
        }
      ]
    },
    {
      "metadata": {
        "id": "j1akWgnkeX3i",
        "colab_type": "code",
        "colab": {}
      },
      "cell_type": "code",
      "source": [
        "def show_image(np_array):\n",
        "    %matplotlib inline\n",
        "    plt.figure()\n",
        "    plt.imshow(np_array)\n",
        "    \n",
        "def show_example(data_set, labels, example_index):\n",
        "    show_image(data_set[example_index])\n",
        "    print('Label: ', labels[example_index])"
      ],
      "execution_count": 0,
      "outputs": []
    },
    {
      "metadata": {
        "id": "hGfpwjuveX3r",
        "colab_type": "code",
        "colab": {
          "base_uri": "https://localhost:8080/",
          "height": 281
        },
        "outputId": "f8aabb16-50fc-41fe-99de-4701cf4d9d3a"
      },
      "cell_type": "code",
      "source": [
        "show_example(train_images, train_labels, example_index = 0)"
      ],
      "execution_count": 31,
      "outputs": [
        {
          "output_type": "stream",
          "text": [
            "Label:  [6]\n"
          ],
          "name": "stdout"
        },
        {
          "output_type": "display_data",
          "data": {
            "image/png": "[encoded data removed]",
            "text/plain": [
              "<Figure size 432x288 with 1 Axes>"
            ]
          },
          "metadata": {
            "tags": []
          }
        }
      ]
    },
    {
      "metadata": {
        "id": "Ilj2ZjQ2eX3v",
        "colab_type": "code",
        "colab": {
          "base_uri": "https://localhost:8080/",
          "height": 281
        },
        "outputId": "3f56fe37-cc04-4e51-adee-114137a179ef"
      },
      "cell_type": "code",
      "source": [
        "show_example(cv_images, cv_labels, example_index = 0)"
      ],
      "execution_count": 32,
      "outputs": [
        {
          "output_type": "stream",
          "text": [
            "Label:  [3]\n"
          ],
          "name": "stdout"
        },
        {
          "output_type": "display_data",
          "data": {
            "image/png": "[encoded data removed]",
            "text/plain": [
              "<Figure size 432x288 with 1 Axes>"
            ]
          },
          "metadata": {
            "tags": []
          }
        }
      ]
    },
    {
      "metadata": {
        "id": "e-K-vXgWLVae",
        "colab_type": "text"
      },
      "cell_type": "markdown",
      "source": [
        "## Preprocessing"
      ]
    },
    {
      "metadata": {
        "id": "fUgPArynjJ49",
        "colab_type": "code",
        "colab": {}
      },
      "cell_type": "code",
      "source": [
        "num_classes = 10\n",
        "train_y = np_utils.to_categorical(train_labels, num_classes)\n",
        "cv_y = np_utils.to_categorical(cv_labels, num_classes)\n",
        "\n",
        "train_images = train_images.astype('float32')\n",
        "cv_images = cv_images.astype('float32')\n",
        "train_images /= 255\n",
        "cv_images /= 255"
      ],
      "execution_count": 0,
      "outputs": []
    },
    {
      "metadata": {
        "id": "5HIZnC3-eX31",
        "colab_type": "text"
      },
      "cell_type": "markdown",
      "source": [
        "## Building AlexNet"
      ]
    },
    {
      "metadata": {
        "id": "DzXazbS4pYlN",
        "colab_type": "code",
        "colab": {}
      },
      "cell_type": "code",
      "source": [
        "def create_AlexNet(num_classes=10, k=1):\n",
        "  model = Sequential()\n",
        "  # 1\n",
        "  model.add(Conv2D(48 * k, (11, 11), strides=(4,4), padding='same',\n",
        "                   input_shape=train_images.shape[1:]))\n",
        "\n",
        "  model.add(BatchNormalization(name=\"1_bn\"))\n",
        "  model.add(Activation('relu', name=\"1_relu\"))\n",
        "  model.add(MaxPooling2D((3, 3), strides=(2,2), padding='same', name=\"1_maxpool\"))\n",
        "  \n",
        "  # 2\n",
        "  model.add(Conv2D(128 * k, (5, 5), strides=(1,1), padding='same', name=\"2_conv\"))\n",
        "  model.add(BatchNormalization(name=\"2_bn\"))\n",
        "  model.add(Activation('relu', name=\"2_relu\"))\n",
        "  model.add(MaxPooling2D((3, 3), strides=(2,2), padding='same', name=\"2_maxpool\"))\n",
        "#   if dropout:\n",
        "#     model.add(Dropout(0.5))\n",
        "\n",
        "  # 3\n",
        "  model.add(Conv2D(192 * k, (3, 3),  strides=(1,1), padding='same', name=\"3_conv\"))\n",
        "  model.add(Activation('relu', name=\"3_relu\"))\n",
        "    \n",
        "  # 4\n",
        "  model.add(Conv2D(192 * k, (3, 3),  strides=(1,1), padding='same', name=\"4_conv\"))\n",
        "  model.add(Activation('relu', name=\"4_relu\"))\n",
        "    \n",
        "  # 5\n",
        "  model.add(Conv2D(128 * k, (3, 3),  strides=(1,1), padding='same', name=\"5_conv\"))\n",
        "  model.add(BatchNormalization(name=\"5_bn\"))\n",
        "  model.add(Activation('relu', name=\"5_relu\"))\n",
        "  model.add(MaxPooling2D((3, 3), strides=(2,2), padding='same', name=\"5_maxpool\"))\n",
        "#   if dropout:\n",
        "#     model.add(Dropout(0.5))\n",
        "  \n",
        "  # 6\n",
        "  model.add(Flatten(name=\"6_flatten\"))\n",
        "  model.add(Dropout(0.5, name=\"6_dropout\"))\n",
        "  model.add(Dense(2048 * k, name=\"6_fc\"))\n",
        "  model.add(BatchNormalization(name=\"6_bn\"))\n",
        "  model.add(Activation('relu', name=\"6_relu\"))\n",
        "    \n",
        "  # 7\n",
        "  model.add(Dropout(0.5, name=\"7_dropout\"))\n",
        "  model.add(Dense(2048 * k, name=\"7_fc\"))\n",
        "  model.add(BatchNormalization(name=\"7_bn\"))\n",
        "  model.add(Activation('relu', name=\"7_relu\"))\n",
        "\n",
        "  # 8\n",
        "  model.add(Dense(num_classes, name=\"8_fc\"))\n",
        "  model.add(BatchNormalization(name=\"8_bn\"))\n",
        "  model.add(Activation('softmax', name=\"8_softmax\"))\n",
        "  return model"
      ],
      "execution_count": 0,
      "outputs": []
    },
    {
      "metadata": {
        "id": "jU4P8xRseX39",
        "colab_type": "text"
      },
      "cell_type": "markdown",
      "source": [
        "## Training AlexNet"
      ]
    },
    {
      "metadata": {
        "id": "Uyh9RCjW0grJ",
        "colab_type": "code",
        "colab": {
          "base_uri": "https://localhost:8080/",
          "height": 115
        },
        "outputId": "7786cf3c-06f5-46f5-98c4-709864285745"
      },
      "cell_type": "code",
      "source": [
        "tbc = TensorBoardColab()"
      ],
      "execution_count": 138,
      "outputs": [
        {
          "output_type": "stream",
          "text": [
            "Wait for 8 seconds...\n",
            "TensorBoard link:\n",
            "https://ab1b3544.ngrok.io\n"
          ],
          "name": "stdout"
        }
      ]
    },
    {
      "metadata": {
        "id": "Ru2OxZ2Qpb-_",
        "colab_type": "code",
        "colab": {
          "base_uri": "https://localhost:8080/",
          "height": 1054
        },
        "outputId": "398232a7-03a0-4773-8183-a0cae8ddf3d0"
      },
      "cell_type": "code",
      "source": [
        "model = create_AlexNet(num_classes)\n",
        "model.summary()\n",
        "\n",
        "sgd = keras.optimizers.SGD(lr=0.01, decay=5*1e-4, momentum=0.9, nesterov=True)\n",
        "\n",
        "model.compile(loss='categorical_crossentropy',\n",
        "              optimizer=rmsprop,\n",
        "              metrics=['accuracy'])\n",
        "reduce_lr = keras.callbacks.ReduceLROnPlateau(monitor='val_loss', factor=0.1,\n",
        "                                              patience=10, cooldown=1,\n",
        "                                              min_lr=0.00001, verbose=1)"
      ],
      "execution_count": 146,
      "outputs": [
        {
          "output_type": "stream",
          "text": [
            "_________________________________________________________________\n",
            "Layer (type)                 Output Shape              Param #   \n",
            "=================================================================\n",
            "conv2d_86 (Conv2D)           (None, 8, 8, 48)          17472     \n",
            "_________________________________________________________________\n",
            "1_bn (BatchNormalization)    (None, 8, 8, 48)          192       \n",
            "_________________________________________________________________\n",
            "1_relu (Activation)          (None, 8, 8, 48)          0         \n",
            "_________________________________________________________________\n",
            "1_maxpool (MaxPooling2D)     (None, 4, 4, 48)          0         \n",
            "_________________________________________________________________\n",
            "2_conv (Conv2D)              (None, 4, 4, 128)         153728    \n",
            "_________________________________________________________________\n",
            "2_bn (BatchNormalization)    (None, 4, 4, 128)         512       \n",
            "_________________________________________________________________\n",
            "2_relu (Activation)          (None, 4, 4, 128)         0         \n",
            "_________________________________________________________________\n",
            "2_maxpool (MaxPooling2D)     (None, 2, 2, 128)         0         \n",
            "_________________________________________________________________\n",
            "3_conv (Conv2D)              (None, 2, 2, 192)         221376    \n",
            "_________________________________________________________________\n",
            "3_relu (Activation)          (None, 2, 2, 192)         0         \n",
            "_________________________________________________________________\n",
            "4_conv (Conv2D)              (None, 2, 2, 192)         331968    \n",
            "_________________________________________________________________\n",
            "4_relu (Activation)          (None, 2, 2, 192)         0         \n",
            "_________________________________________________________________\n",
            "5_conv (Conv2D)              (None, 2, 2, 128)         221312    \n",
            "_________________________________________________________________\n",
            "5_bn (BatchNormalization)    (None, 2, 2, 128)         512       \n",
            "_________________________________________________________________\n",
            "5_relu (Activation)          (None, 2, 2, 128)         0         \n",
            "_________________________________________________________________\n",
            "5_maxpool (MaxPooling2D)     (None, 1, 1, 128)         0         \n",
            "_________________________________________________________________\n",
            "6_flatten (Flatten)          (None, 128)               0         \n",
            "_________________________________________________________________\n",
            "6_dropout (Dropout)          (None, 128)               0         \n",
            "_________________________________________________________________\n",
            "6_fc (Dense)                 (None, 2048)              264192    \n",
            "_________________________________________________________________\n",
            "6_bn (BatchNormalization)    (None, 2048)              8192      \n",
            "_________________________________________________________________\n",
            "6_relu (Activation)          (None, 2048)              0         \n",
            "_________________________________________________________________\n",
            "7_dropout (Dropout)          (None, 2048)              0         \n",
            "_________________________________________________________________\n",
            "7_fc (Dense)                 (None, 2048)              4196352   \n",
            "_________________________________________________________________\n",
            "7_bn (BatchNormalization)    (None, 2048)              8192      \n",
            "_________________________________________________________________\n",
            "7_relu (Activation)          (None, 2048)              0         \n",
            "_________________________________________________________________\n",
            "8_fc (Dense)                 (None, 10)                20490     \n",
            "_________________________________________________________________\n",
            "8_bn (BatchNormalization)    (None, 10)                40        \n",
            "_________________________________________________________________\n",
            "8_softmax (Activation)       (None, 10)                0         \n",
            "=================================================================\n",
            "Total params: 5,444,530\n",
            "Trainable params: 5,435,710\n",
            "Non-trainable params: 8,820\n",
            "_________________________________________________________________\n"
          ],
          "name": "stdout"
        }
      ]
    },
    {
      "metadata": {
        "id": "AxHr9pt5mYmd",
        "colab_type": "code",
        "colab": {
          "base_uri": "https://localhost:8080/",
          "height": 3096
        },
        "outputId": "4977257a-0e8c-4c69-a8bd-3bc7efe34665"
      },
      "cell_type": "code",
      "source": [
        "epoch_start = 0\n",
        "batch_size = 128\n",
        "epochs = 90\n",
        "\n",
        "model.fit(train_images, train_y,\n",
        "      initial_epoch=epoch_start,\n",
        "      batch_size=batch_size,\n",
        "      epochs=epochs,\n",
        "      shuffle=True,\n",
        "      validation_data=(cv_images, cv_y),\n",
        "      callbacks=[reduce_lr, TensorBoardColabCallback(tbc)])"
      ],
      "execution_count": 140,
      "outputs": [
        {
          "output_type": "stream",
          "text": [
            "Train on 50000 samples, validate on 10000 samples\n",
            "Epoch 1/90\n",
            "50000/50000 [==============================] - 17s 330us/step - loss: 1.8845 - acc: 0.2605 - val_loss: 2.6133 - val_acc: 0.2209\n",
            "Epoch 2/90\n",
            "50000/50000 [==============================] - 13s 267us/step - loss: 1.5592 - acc: 0.4110 - val_loss: 1.9342 - val_acc: 0.3510\n",
            "Epoch 3/90\n",
            "50000/50000 [==============================] - 13s 266us/step - loss: 1.3378 - acc: 0.5117 - val_loss: 2.1123 - val_acc: 0.3516\n",
            "Epoch 4/90\n",
            "50000/50000 [==============================] - 13s 266us/step - loss: 1.2160 - acc: 0.5639 - val_loss: 1.6544 - val_acc: 0.4330\n",
            "Epoch 5/90\n",
            "50000/50000 [==============================] - 13s 265us/step - loss: 1.1181 - acc: 0.6056 - val_loss: 1.9566 - val_acc: 0.4015\n",
            "Epoch 6/90\n",
            "50000/50000 [==============================] - 13s 264us/step - loss: 1.0463 - acc: 0.6357 - val_loss: 1.4255 - val_acc: 0.5409\n",
            "Epoch 7/90\n",
            "50000/50000 [==============================] - 13s 266us/step - loss: 0.9789 - acc: 0.6610 - val_loss: 1.3584 - val_acc: 0.5561\n",
            "Epoch 8/90\n",
            "50000/50000 [==============================] - 13s 266us/step - loss: 0.9185 - acc: 0.6847 - val_loss: 1.5217 - val_acc: 0.5252\n",
            "Epoch 9/90\n",
            "50000/50000 [==============================] - 13s 266us/step - loss: 0.8671 - acc: 0.7050 - val_loss: 1.5529 - val_acc: 0.5362\n",
            "Epoch 10/90\n",
            "50000/50000 [==============================] - 13s 269us/step - loss: 0.8154 - acc: 0.7230 - val_loss: 1.2105 - val_acc: 0.6092\n",
            "Epoch 11/90\n",
            "50000/50000 [==============================] - 13s 267us/step - loss: 0.7687 - acc: 0.7403 - val_loss: 1.4327 - val_acc: 0.5541\n",
            "Epoch 12/90\n",
            "50000/50000 [==============================] - 13s 268us/step - loss: 0.7251 - acc: 0.7554 - val_loss: 1.2913 - val_acc: 0.6049\n",
            "Epoch 13/90\n",
            "50000/50000 [==============================] - 13s 267us/step - loss: 0.6793 - acc: 0.7711 - val_loss: 1.1537 - val_acc: 0.6414\n",
            "Epoch 14/90\n",
            "50000/50000 [==============================] - 13s 266us/step - loss: 0.6394 - acc: 0.7895 - val_loss: 1.1586 - val_acc: 0.6404\n",
            "Epoch 15/90\n",
            "50000/50000 [==============================] - 13s 266us/step - loss: 0.6027 - acc: 0.8005 - val_loss: 1.3850 - val_acc: 0.6027\n",
            "Epoch 16/90\n",
            "50000/50000 [==============================] - 13s 265us/step - loss: 0.5702 - acc: 0.8113 - val_loss: 1.2486 - val_acc: 0.6326\n",
            "Epoch 17/90\n",
            "50000/50000 [==============================] - 13s 266us/step - loss: 0.5382 - acc: 0.8221 - val_loss: 1.2626 - val_acc: 0.6276\n",
            "Epoch 18/90\n",
            "50000/50000 [==============================] - 13s 266us/step - loss: 0.5063 - acc: 0.8329 - val_loss: 1.3109 - val_acc: 0.6251\n",
            "Epoch 19/90\n",
            "50000/50000 [==============================] - 13s 265us/step - loss: 0.4812 - acc: 0.8430 - val_loss: 1.4308 - val_acc: 0.6116\n",
            "Epoch 20/90\n",
            "50000/50000 [==============================] - 13s 265us/step - loss: 0.4471 - acc: 0.8545 - val_loss: 1.5366 - val_acc: 0.5981\n",
            "Epoch 21/90\n",
            "50000/50000 [==============================] - 13s 265us/step - loss: 0.4278 - acc: 0.8599 - val_loss: 1.5613 - val_acc: 0.5963\n",
            "Epoch 22/90\n",
            "50000/50000 [==============================] - 13s 266us/step - loss: 0.3971 - acc: 0.8707 - val_loss: 1.5547 - val_acc: 0.6166\n",
            "Epoch 23/90\n",
            "50000/50000 [==============================] - 13s 263us/step - loss: 0.3771 - acc: 0.8777 - val_loss: 1.3436 - val_acc: 0.6366\n",
            "\n",
            "Epoch 00023: ReduceLROnPlateau reducing learning rate to 0.0009999999776482583.\n",
            "Epoch 24/90\n",
            "50000/50000 [==============================] - 13s 265us/step - loss: 0.2190 - acc: 0.9352 - val_loss: 1.2748 - val_acc: 0.6786\n",
            "Epoch 25/90\n",
            "50000/50000 [==============================] - 13s 264us/step - loss: 0.1705 - acc: 0.9497 - val_loss: 1.3555 - val_acc: 0.6754\n",
            "Epoch 26/90\n",
            "50000/50000 [==============================] - 13s 265us/step - loss: 0.1522 - acc: 0.9576 - val_loss: 1.4004 - val_acc: 0.6740\n",
            "Epoch 27/90\n",
            "50000/50000 [==============================] - 13s 264us/step - loss: 0.1373 - acc: 0.9612 - val_loss: 1.4625 - val_acc: 0.6724\n",
            "Epoch 28/90\n",
            "50000/50000 [==============================] - 13s 265us/step - loss: 0.1275 - acc: 0.9641 - val_loss: 1.5206 - val_acc: 0.6762\n",
            "Epoch 29/90\n",
            "50000/50000 [==============================] - 13s 264us/step - loss: 0.1139 - acc: 0.9680 - val_loss: 1.5750 - val_acc: 0.6706\n",
            "Epoch 30/90\n",
            "50000/50000 [==============================] - 13s 264us/step - loss: 0.1074 - acc: 0.9695 - val_loss: 1.6210 - val_acc: 0.6732\n",
            "Epoch 31/90\n",
            "50000/50000 [==============================] - 13s 264us/step - loss: 0.0999 - acc: 0.9722 - val_loss: 1.6570 - val_acc: 0.6719\n",
            "Epoch 32/90\n",
            "50000/50000 [==============================] - 13s 265us/step - loss: 0.0917 - acc: 0.9751 - val_loss: 1.7133 - val_acc: 0.6706\n",
            "Epoch 33/90\n",
            "50000/50000 [==============================] - 13s 265us/step - loss: 0.0884 - acc: 0.9756 - val_loss: 1.7357 - val_acc: 0.6723\n",
            "\n",
            "Epoch 00033: ReduceLROnPlateau reducing learning rate to 9.999999310821295e-05.\n",
            "Epoch 34/90\n",
            "50000/50000 [==============================] - 13s 267us/step - loss: 0.0747 - acc: 0.9803 - val_loss: 1.7285 - val_acc: 0.6742\n",
            "Epoch 35/90\n",
            "50000/50000 [==============================] - 13s 266us/step - loss: 0.0715 - acc: 0.9819 - val_loss: 1.7369 - val_acc: 0.6743\n",
            "Epoch 36/90\n",
            "50000/50000 [==============================] - 13s 266us/step - loss: 0.0691 - acc: 0.9821 - val_loss: 1.7461 - val_acc: 0.6735\n",
            "Epoch 37/90\n",
            "50000/50000 [==============================] - 13s 267us/step - loss: 0.0694 - acc: 0.9818 - val_loss: 1.7562 - val_acc: 0.6752\n",
            "Epoch 38/90\n",
            "50000/50000 [==============================] - 13s 267us/step - loss: 0.0690 - acc: 0.9821 - val_loss: 1.7610 - val_acc: 0.6742\n",
            "Epoch 39/90\n",
            "50000/50000 [==============================] - 13s 268us/step - loss: 0.0668 - acc: 0.9823 - val_loss: 1.7672 - val_acc: 0.6738\n",
            "Epoch 40/90\n",
            "50000/50000 [==============================] - 13s 267us/step - loss: 0.0643 - acc: 0.9835 - val_loss: 1.7784 - val_acc: 0.6731\n",
            "Epoch 41/90\n",
            "50000/50000 [==============================] - 13s 267us/step - loss: 0.0633 - acc: 0.9838 - val_loss: 1.7871 - val_acc: 0.6734\n",
            "Epoch 42/90\n",
            "50000/50000 [==============================] - 13s 267us/step - loss: 0.0641 - acc: 0.9836 - val_loss: 1.7936 - val_acc: 0.6745\n",
            "Epoch 43/90\n",
            "50000/50000 [==============================] - 13s 265us/step - loss: 0.0634 - acc: 0.9843 - val_loss: 1.7999 - val_acc: 0.6726\n",
            "\n",
            "Epoch 00043: ReduceLROnPlateau reducing learning rate to 1e-05.\n",
            "Epoch 44/90\n",
            "50000/50000 [==============================] - 13s 267us/step - loss: 0.0628 - acc: 0.9839 - val_loss: 1.8007 - val_acc: 0.6730\n",
            "Epoch 45/90\n",
            "50000/50000 [==============================] - 13s 267us/step - loss: 0.0625 - acc: 0.9842 - val_loss: 1.8015 - val_acc: 0.6733\n",
            "Epoch 46/90\n",
            "50000/50000 [==============================] - 13s 268us/step - loss: 0.0612 - acc: 0.9844 - val_loss: 1.7993 - val_acc: 0.6735\n",
            "Epoch 47/90\n",
            "50000/50000 [==============================] - 13s 267us/step - loss: 0.0598 - acc: 0.9845 - val_loss: 1.8040 - val_acc: 0.6735\n",
            "Epoch 48/90\n",
            "50000/50000 [==============================] - 13s 267us/step - loss: 0.0612 - acc: 0.9845 - val_loss: 1.8072 - val_acc: 0.6733\n",
            "Epoch 49/90\n",
            "50000/50000 [==============================] - 13s 267us/step - loss: 0.0602 - acc: 0.9847 - val_loss: 1.8074 - val_acc: 0.6733\n",
            "Epoch 50/90\n",
            "50000/50000 [==============================] - 13s 265us/step - loss: 0.0608 - acc: 0.9844 - val_loss: 1.8094 - val_acc: 0.6734\n",
            "Epoch 51/90\n",
            "50000/50000 [==============================] - 13s 266us/step - loss: 0.0613 - acc: 0.9843 - val_loss: 1.8076 - val_acc: 0.6734\n",
            "Epoch 52/90\n",
            "50000/50000 [==============================] - 13s 267us/step - loss: 0.0618 - acc: 0.9843 - val_loss: 1.8126 - val_acc: 0.6738\n",
            "Epoch 53/90\n",
            "50000/50000 [==============================] - 13s 267us/step - loss: 0.0623 - acc: 0.9841 - val_loss: 1.8107 - val_acc: 0.6726\n",
            "Epoch 54/90\n",
            "50000/50000 [==============================] - 13s 267us/step - loss: 0.0615 - acc: 0.9844 - val_loss: 1.8089 - val_acc: 0.6726\n",
            "Epoch 55/90\n",
            "50000/50000 [==============================] - 13s 267us/step - loss: 0.0611 - acc: 0.9845 - val_loss: 1.8139 - val_acc: 0.6729\n",
            "Epoch 56/90\n",
            "50000/50000 [==============================] - 13s 267us/step - loss: 0.0600 - acc: 0.9849 - val_loss: 1.8144 - val_acc: 0.6733\n",
            "Epoch 57/90\n",
            "50000/50000 [==============================] - 13s 267us/step - loss: 0.0591 - acc: 0.9850 - val_loss: 1.8103 - val_acc: 0.6728\n",
            "Epoch 58/90\n",
            "50000/50000 [==============================] - 13s 267us/step - loss: 0.0605 - acc: 0.9845 - val_loss: 1.8132 - val_acc: 0.6734\n",
            "Epoch 59/90\n",
            "50000/50000 [==============================] - 13s 265us/step - loss: 0.0606 - acc: 0.9846 - val_loss: 1.8119 - val_acc: 0.6722\n",
            "Epoch 60/90\n",
            "50000/50000 [==============================] - 13s 267us/step - loss: 0.0615 - acc: 0.9842 - val_loss: 1.8170 - val_acc: 0.6733\n",
            "Epoch 61/90\n",
            "50000/50000 [==============================] - 13s 266us/step - loss: 0.0606 - acc: 0.9843 - val_loss: 1.8173 - val_acc: 0.6726\n",
            "Epoch 62/90\n",
            "50000/50000 [==============================] - 13s 267us/step - loss: 0.0613 - acc: 0.9846 - val_loss: 1.8187 - val_acc: 0.6717\n",
            "Epoch 63/90\n",
            "50000/50000 [==============================] - 13s 268us/step - loss: 0.0609 - acc: 0.9846 - val_loss: 1.8134 - val_acc: 0.6728\n",
            "Epoch 64/90\n",
            "50000/50000 [==============================] - 13s 267us/step - loss: 0.0602 - acc: 0.9847 - val_loss: 1.8144 - val_acc: 0.6729\n",
            "Epoch 65/90\n",
            "50000/50000 [==============================] - 13s 267us/step - loss: 0.0584 - acc: 0.9848 - val_loss: 1.8156 - val_acc: 0.6737\n",
            "Epoch 66/90\n",
            "50000/50000 [==============================] - 13s 267us/step - loss: 0.0590 - acc: 0.9850 - val_loss: 1.8190 - val_acc: 0.6724\n",
            "Epoch 67/90\n",
            "50000/50000 [==============================] - 13s 266us/step - loss: 0.0598 - acc: 0.9852 - val_loss: 1.8200 - val_acc: 0.6734\n",
            "Epoch 68/90\n",
            "50000/50000 [==============================] - 13s 268us/step - loss: 0.0598 - acc: 0.9849 - val_loss: 1.8194 - val_acc: 0.6736\n",
            "Epoch 69/90\n",
            "50000/50000 [==============================] - 13s 267us/step - loss: 0.0603 - acc: 0.9849 - val_loss: 1.8229 - val_acc: 0.6727\n",
            "Epoch 70/90\n",
            "50000/50000 [==============================] - 13s 266us/step - loss: 0.0604 - acc: 0.9842 - val_loss: 1.8186 - val_acc: 0.6734\n",
            "Epoch 71/90\n",
            "50000/50000 [==============================] - 13s 268us/step - loss: 0.0596 - acc: 0.9855 - val_loss: 1.8230 - val_acc: 0.6728\n",
            "Epoch 72/90\n",
            "50000/50000 [==============================] - 13s 268us/step - loss: 0.0599 - acc: 0.9848 - val_loss: 1.8251 - val_acc: 0.6740\n",
            "Epoch 73/90\n",
            "50000/50000 [==============================] - 13s 267us/step - loss: 0.0576 - acc: 0.9851 - val_loss: 1.8240 - val_acc: 0.6735\n",
            "Epoch 74/90\n",
            "50000/50000 [==============================] - 13s 268us/step - loss: 0.0591 - acc: 0.9851 - val_loss: 1.8243 - val_acc: 0.6732\n",
            "Epoch 75/90\n",
            "50000/50000 [==============================] - 13s 266us/step - loss: 0.0617 - acc: 0.9841 - val_loss: 1.8208 - val_acc: 0.6730\n",
            "Epoch 76/90\n",
            "50000/50000 [==============================] - 13s 269us/step - loss: 0.0586 - acc: 0.9852 - val_loss: 1.8245 - val_acc: 0.6730\n",
            "Epoch 77/90\n",
            "50000/50000 [==============================] - 13s 268us/step - loss: 0.0589 - acc: 0.9851 - val_loss: 1.8240 - val_acc: 0.6726\n",
            "Epoch 78/90\n",
            "50000/50000 [==============================] - 13s 270us/step - loss: 0.0616 - acc: 0.9841 - val_loss: 1.8257 - val_acc: 0.6729\n",
            "Epoch 79/90\n",
            "50000/50000 [==============================] - 13s 266us/step - loss: 0.0584 - acc: 0.9859 - val_loss: 1.8214 - val_acc: 0.6730\n",
            "Epoch 80/90\n",
            "50000/50000 [==============================] - 13s 267us/step - loss: 0.0591 - acc: 0.9852 - val_loss: 1.8284 - val_acc: 0.6731\n",
            "Epoch 81/90\n",
            "50000/50000 [==============================] - 13s 266us/step - loss: 0.0572 - acc: 0.9853 - val_loss: 1.8241 - val_acc: 0.6725\n",
            "Epoch 82/90\n",
            "50000/50000 [==============================] - 13s 268us/step - loss: 0.0598 - acc: 0.9851 - val_loss: 1.8279 - val_acc: 0.6726\n",
            "Epoch 83/90\n",
            "50000/50000 [==============================] - 13s 268us/step - loss: 0.0594 - acc: 0.9845 - val_loss: 1.8316 - val_acc: 0.6733\n",
            "Epoch 84/90\n",
            "50000/50000 [==============================] - 13s 266us/step - loss: 0.0577 - acc: 0.9850 - val_loss: 1.8288 - val_acc: 0.6724\n",
            "Epoch 85/90\n",
            "50000/50000 [==============================] - 13s 268us/step - loss: 0.0600 - acc: 0.9848 - val_loss: 1.8305 - val_acc: 0.6732\n",
            "Epoch 86/90\n",
            "50000/50000 [==============================] - 13s 268us/step - loss: 0.0574 - acc: 0.9854 - val_loss: 1.8328 - val_acc: 0.6719\n",
            "Epoch 87/90\n",
            "50000/50000 [==============================] - 13s 269us/step - loss: 0.0579 - acc: 0.9854 - val_loss: 1.8331 - val_acc: 0.6718\n",
            "Epoch 88/90\n",
            "50000/50000 [==============================] - 13s 268us/step - loss: 0.0582 - acc: 0.9854 - val_loss: 1.8344 - val_acc: 0.6722\n",
            "Epoch 89/90\n",
            "50000/50000 [==============================] - 13s 269us/step - loss: 0.0582 - acc: 0.9850 - val_loss: 1.8319 - val_acc: 0.6729\n",
            "Epoch 90/90\n",
            "50000/50000 [==============================] - 13s 267us/step - loss: 0.0580 - acc: 0.9851 - val_loss: 1.8306 - val_acc: 0.6732\n"
          ],
          "name": "stdout"
        }
      ]
    },
    {
      "metadata": {
        "id": "fKH5npU69w4Q",
        "colab_type": "code",
        "colab": {
          "base_uri": "https://localhost:8080/",
          "height": 65
        },
        "outputId": "9dacf827-51a8-43fb-fe9f-48aaba00a43e"
      },
      "cell_type": "code",
      "source": [
        "scores = model.evaluate(cv_images, cv_y, verbose=1)\n",
        "print('Test loss: {:.2f}'.format(scores[0]))\n",
        "print('Test accuracy: {:.2f}%'.format(scores[1]*100))"
      ],
      "execution_count": 150,
      "outputs": [
        {
          "output_type": "stream",
          "text": [
            "10000/10000 [==============================] - 2s 242us/step\n",
            "Test loss: 1.83\n",
            "Test accuracy: 67.32%\n"
          ],
          "name": "stdout"
        }
      ]
    },
    {
      "metadata": {
        "id": "yfHcRVN6oqcQ",
        "colab_type": "code",
        "colab": {
          "base_uri": "https://localhost:8080/",
          "height": 32
        },
        "outputId": "87700e36-adf5-4b10-972a-2f92e34f9d7b"
      },
      "cell_type": "code",
      "source": [
        "save_dir = os.path.join(os.getcwd(), 'saved_models')\n",
        "model_name = 'alex-net_vanilla.h5'\n",
        "\n",
        "if not os.path.isdir(save_dir):\n",
        "    os.makedirs(save_dir)\n",
        "model_path = os.path.join(save_dir, model_name)\n",
        "model.save(model_path)\n",
        "print('Saved trained model at %s ' % model_path)\n",
        "\n",
        "if _colab:\n",
        "  model_file = drive.CreateFile({'title' : model_name})\n",
        "  model_file.SetContentFile(model_path)\n",
        "  model_file.Upload()"
      ],
      "execution_count": 142,
      "outputs": [
        {
          "output_type": "stream",
          "text": [
            "Saved trained model at /content/saved_models/alex-net_vanilla.h5 \n"
          ],
          "name": "stdout"
        }
      ]
    },
    {
      "metadata": {
        "id": "Gui8_xgHeX4B",
        "colab_type": "text"
      },
      "cell_type": "markdown",
      "source": [
        "## Improving AlexNet"
      ]
    },
    {
      "metadata": {
        "id": "qZgZqdXXeX4C",
        "colab_type": "text"
      },
      "cell_type": "markdown",
      "source": [
        "AlexNet was specifically created for a large-scale ImageNet dataset, that is much more complex than CIFAR-10, e.g. it has images of higher quality (224x224 in ImageNet vs. 32x32 in CIFAR), a huge (1000) number of various classes with its hierarchy (vs. simple 10 in CIFAR), 1.2 million images in total vs. 60 thousand in CIFAR. The architecture is as complex as it should be for such dataset, but for ours, it over-complicated and thus is easy to overfit, as we can see from the classification results above. So to achieve a good generalization, we need to revisit the model and optimization configurations. Also, we suggest using data augmentation to enlarge and diversify training data."
      ]
    },
    {
      "metadata": {
        "id": "taGeyuRIlLOn",
        "colab_type": "code",
        "colab": {}
      },
      "cell_type": "code",
      "source": [
        "def create_modified_AlexNet():\n",
        "  model = Sequential()\n",
        "  # 1\n",
        "  model.add(Conv2D(32, (3, 3), padding='same',\n",
        "                   input_shape=train_images.shape[1:]))\n",
        "  model.add(Activation('relu'))\n",
        "  \n",
        "  # 2\n",
        "  model.add(Conv2D(32, (3, 3)))\n",
        "  model.add(Activation('relu'))\n",
        "  model.add(MaxPooling2D(pool_size=(2, 2)))\n",
        "  model.add(Dropout(0.25))\n",
        "  \n",
        "  # 3\n",
        "  model.add(Conv2D(64, (3, 3), padding='same'))\n",
        "  model.add(Activation('relu'))\n",
        "  \n",
        "  # 4\n",
        "  model.add(Conv2D(64, (3, 3)))\n",
        "  model.add(Activation('relu'))\n",
        "  model.add(MaxPooling2D(pool_size=(2, 2)))\n",
        "  model.add(Dropout(0.25))\n",
        "  \n",
        "  # 5\n",
        "  model.add(Conv2D(64, (3, 3)))\n",
        "  model.add(Activation('relu'))\n",
        "  model.add(MaxPooling2D(pool_size=(2, 2)))\n",
        "  model.add(Dropout(0.25))\n",
        "  \n",
        "  # 6\n",
        "  model.add(Flatten())\n",
        "  model.add(Dense(512))\n",
        "  model.add(Activation('relu'))\n",
        "  model.add(Dropout(0.5))\n",
        "  \n",
        "  # 7\n",
        "  model.add(Flatten())\n",
        "  model.add(Dense(512))\n",
        "  model.add(Activation('relu'))\n",
        "  model.add(Dropout(0.5))\n",
        "  \n",
        "  # 8\n",
        "  model.add(Dense(num_classes))\n",
        "  model.add(Activation('softmax'))\n",
        "  return model"
      ],
      "execution_count": 0,
      "outputs": []
    },
    {
      "metadata": {
        "id": "6j-qh4xtPJfa",
        "colab_type": "code",
        "colab": {}
      },
      "cell_type": "code",
      "source": [
        "tbc = TensorBoardColab()"
      ],
      "execution_count": 0,
      "outputs": []
    },
    {
      "metadata": {
        "id": "D_myAACwHETx",
        "colab_type": "code",
        "colab": {}
      },
      "cell_type": "code",
      "source": [
        "model = create_modified_AlexNet()\n",
        "# model.summary()\n",
        "\n",
        "\n",
        "# rmsprop = keras.optimizers.rmsprop(lr=0.01, decay=1e-6)\n",
        "sgd = keras.optimizers.SGD(lr=0.01, decay=5*1e-4, momentum=0.9, nesterov=True)\n",
        "\n",
        "model.compile(loss='categorical_crossentropy',\n",
        "              optimizer=rmsprop,\n",
        "              metrics=['accuracy'])\n",
        "reduce_lr = keras.callbacks.ReduceLROnPlateau(monitor='val_loss', factor=0.1,\n",
        "                                              patience=10, cooldown=1,\n",
        "                                              min_lr=0.00001, verbose=1)"
      ],
      "execution_count": 0,
      "outputs": []
    },
    {
      "metadata": {
        "id": "UhimEUvWHp8W",
        "colab_type": "code",
        "colab": {}
      },
      "cell_type": "code",
      "source": [
        "epoch_start = 0\n",
        "batch_size = 128\n",
        "epochs = 90\n",
        "\n",
        "model.fit(train_images, train_y,\n",
        "      initial_epoch=epoch_start,\n",
        "      batch_size=batch_size,\n",
        "      epochs=epochs,\n",
        "      shuffle=True,\n",
        "      validation_data=(cv_images, cv_y),\n",
        "      callbacks=[reduce_lr, TensorBoardColabCallback(tbc)])"
      ],
      "execution_count": 0,
      "outputs": []
    },
    {
      "metadata": {
        "id": "TOoQj3xmrojQ",
        "colab_type": "code",
        "colab": {
          "base_uri": "https://localhost:8080/",
          "height": 905
        },
        "outputId": "fc1008b5-2297-4fb6-90f5-2748a5f36bf5"
      },
      "cell_type": "code",
      "source": [
        "# Data augmentation\n",
        "\n",
        "datagen = ImageDataGenerator(\n",
        "    featurewise_center=False,\n",
        "    samplewise_center=False, \n",
        "    featurewise_std_normalization=False,\n",
        "    samplewise_std_normalization=False,\n",
        "    zca_whitening=False,\n",
        "    zca_epsilon=1e-06,\n",
        "    rotation_range=0,\n",
        "    width_shift_range=0.1,\n",
        "    height_shift_range=0.1,\n",
        "    shear_range=0.,\n",
        "    zoom_range=0.,\n",
        "    channel_shift_range=0.,\n",
        "    fill_mode='nearest',\n",
        "    cval=0.,\n",
        "    horizontal_flip=True,\n",
        "    vertical_flip=False,\n",
        "    rescale=None,\n",
        "    preprocessing_function=None,\n",
        "    data_format=None,\n",
        "    validation_split=0.0)\n",
        "\n",
        "datagen.fit(train_images)\n",
        "\n",
        "epoch_start = 0\n",
        "batch_size = 32\n",
        "epochs = 25\n",
        "\n",
        "model.fit_generator(datagen.flow(train_images, train_y,\n",
        "                                 batch_size=batch_size),\n",
        "                    initial_epoch=epoch_start,\n",
        "                    epochs=epochs,\n",
        "                    validation_data=(cv_images, cv_y),\n",
        "                    workers=4, \n",
        "                    steps_per_epoch=1500,  \n",
        "                    callbacks=[TensorBoardColabCallback(tbc)])"
      ],
      "execution_count": 53,
      "outputs": [
        {
          "output_type": "stream",
          "text": [
            "Epoch 1/25\n",
            "1500/1500 [==============================] - 46s 31ms/step - loss: 1.8489 - acc: 0.3182 - val_loss: 1.6276 - val_acc: 0.4064\n",
            "Epoch 2/25\n",
            "1500/1500 [==============================] - 45s 30ms/step - loss: 1.5826 - acc: 0.4197 - val_loss: 1.3880 - val_acc: 0.4900\n",
            "Epoch 3/25\n",
            "1500/1500 [==============================] - 45s 30ms/step - loss: 1.4672 - acc: 0.4665 - val_loss: 1.2890 - val_acc: 0.5320\n",
            "Epoch 4/25\n",
            "1500/1500 [==============================] - 45s 30ms/step - loss: 1.3932 - acc: 0.4953 - val_loss: 1.2302 - val_acc: 0.5623\n",
            "Epoch 5/25\n",
            "1500/1500 [==============================] - 45s 30ms/step - loss: 1.3244 - acc: 0.5245 - val_loss: 1.1358 - val_acc: 0.6003\n",
            "Epoch 6/25\n",
            "1500/1500 [==============================] - 45s 30ms/step - loss: 1.2628 - acc: 0.5475 - val_loss: 1.1348 - val_acc: 0.5959\n",
            "Epoch 7/25\n",
            "1500/1500 [==============================] - 45s 30ms/step - loss: 1.2142 - acc: 0.5667 - val_loss: 1.0937 - val_acc: 0.6157\n",
            "Epoch 8/25\n",
            "1500/1500 [==============================] - 45s 30ms/step - loss: 1.1711 - acc: 0.5837 - val_loss: 1.0438 - val_acc: 0.6314\n",
            "Epoch 9/25\n",
            "1500/1500 [==============================] - 45s 30ms/step - loss: 1.1246 - acc: 0.6024 - val_loss: 1.0132 - val_acc: 0.6451\n",
            "Epoch 10/25\n",
            "1500/1500 [==============================] - 45s 30ms/step - loss: 1.0958 - acc: 0.6099 - val_loss: 0.9717 - val_acc: 0.6582\n",
            "Epoch 11/25\n",
            "1500/1500 [==============================] - 45s 30ms/step - loss: 1.0729 - acc: 0.6240 - val_loss: 0.9132 - val_acc: 0.6803\n",
            "Epoch 12/25\n",
            "1500/1500 [==============================] - 44s 29ms/step - loss: 1.0397 - acc: 0.6343 - val_loss: 0.9018 - val_acc: 0.6807\n",
            "Epoch 13/25\n",
            "1500/1500 [==============================] - 46s 31ms/step - loss: 1.0257 - acc: 0.6407 - val_loss: 0.9200 - val_acc: 0.6780\n",
            "Epoch 14/25\n",
            "1500/1500 [==============================] - 46s 31ms/step - loss: 0.9876 - acc: 0.6532 - val_loss: 0.8596 - val_acc: 0.7009\n",
            "Epoch 15/25\n",
            "1500/1500 [==============================] - 46s 31ms/step - loss: 0.9816 - acc: 0.6543 - val_loss: 0.8754 - val_acc: 0.7032\n",
            "Epoch 16/25\n",
            "1500/1500 [==============================] - 46s 30ms/step - loss: 0.9615 - acc: 0.6629 - val_loss: 0.8951 - val_acc: 0.6932\n",
            "Epoch 17/25\n",
            "1500/1500 [==============================] - 46s 30ms/step - loss: 0.9440 - acc: 0.6710 - val_loss: 0.8251 - val_acc: 0.7153\n",
            "Epoch 18/25\n",
            "1500/1500 [==============================] - 46s 31ms/step - loss: 0.9394 - acc: 0.6730 - val_loss: 0.8100 - val_acc: 0.7199\n",
            "Epoch 19/25\n",
            "1500/1500 [==============================] - 46s 31ms/step - loss: 0.9198 - acc: 0.6816 - val_loss: 0.7848 - val_acc: 0.7253\n",
            "Epoch 20/25\n",
            "1500/1500 [==============================] - 46s 31ms/step - loss: 0.9080 - acc: 0.6827 - val_loss: 0.8831 - val_acc: 0.6987\n",
            "Epoch 21/25\n",
            "1500/1500 [==============================] - 46s 31ms/step - loss: 0.8983 - acc: 0.6889 - val_loss: 0.8270 - val_acc: 0.7098\n",
            "Epoch 22/25\n",
            "1500/1500 [==============================] - 46s 30ms/step - loss: 0.8983 - acc: 0.6908 - val_loss: 0.7646 - val_acc: 0.7360\n",
            "Epoch 23/25\n",
            "1500/1500 [==============================] - 46s 30ms/step - loss: 0.8843 - acc: 0.6928 - val_loss: 0.7798 - val_acc: 0.7326\n",
            "Epoch 24/25\n",
            "1500/1500 [==============================] - 46s 30ms/step - loss: 0.8754 - acc: 0.6954 - val_loss: 0.7551 - val_acc: 0.7438\n",
            "Epoch 25/25\n",
            "1500/1500 [==============================] - 46s 30ms/step - loss: 0.8802 - acc: 0.6943 - val_loss: 0.7581 - val_acc: 0.7352\n",
            "Saved trained model at /content/saved_models/keras_cifar10_trained_model.h5 \n",
            "10000/10000 [==============================] - 1s 148us/step\n",
            "Test loss: 0.7581126321792603\n",
            "Test accuracy: 0.7352\n"
          ],
          "name": "stdout"
        }
      ]
    },
    {
      "metadata": {
        "id": "ev1q8LFUeX3-",
        "colab_type": "text"
      },
      "cell_type": "markdown",
      "source": [
        "Use training set for training the network to recognize objects. You might want to use RMSProp optimizer to speed up the training.\n",
        "\n",
        "Convolutional networks require a lot of computing power for training. Typical setup for training CNN is to use GPU, however, in this problem you are not required to do so. CPU will be fine as well.\n",
        "\n",
        "If you are using CPU for this subproblem, training process might be slow. You can stop it manually as soon as you get meaningful results.\n",
        "\n",
        "Report the results on the training and cross-validation sets. The report should contain the training logs."
      ]
    },
    {
      "metadata": {
        "id": "AWFVWdrUeX3_",
        "colab_type": "code",
        "colab": {}
      },
      "cell_type": "code",
      "source": [
        "# _train = True\n",
        "# epoch_start = 19\n",
        "# if _train:\n",
        "#     my_model.compile(optimizer='Adam', loss='categorical_crossentropy', metrics=['accuracy'])\n",
        "#     my_model.fit(train_images, train_y,\n",
        "#                  initial_epoch=epoch_start,\n",
        "#                  epochs=92,\n",
        "#                  batch_size=256,\n",
        "#                  shuffle=True,\n",
        "#                  validation_data=(cv_images, cv_y),\n",
        "#                  callbacks=[TensorBoardColabCallback(tbc)])"
      ],
      "execution_count": 0,
      "outputs": []
    },
    {
      "metadata": {
        "id": "jHfR-ST-rb0P",
        "colab_type": "code",
        "colab": {}
      },
      "cell_type": "code",
      "source": [
        ""
      ],
      "execution_count": 0,
      "outputs": []
    }
  ]
}