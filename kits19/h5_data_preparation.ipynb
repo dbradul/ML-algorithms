{
  "cells": [
    {
      "cell_type": "code",
      "execution_count": 1,
      "metadata": {
        "pycharm": {}
      },
      "outputs": [],
      "source": "import h5py\nimport src.starter.utils as starter\nimport src.starter.visualize as vis\nimport pandas as pd\nimport numpy as np\nimport tqdm"
    },
    {
      "cell_type": "code",
      "execution_count": 2,
      "metadata": {
        "pycharm": {}
      },
      "outputs": [],
      "source": [
        "data \u003d pd.read_csv(\"data_stats.csv\")"
      ]
    },
    {
      "cell_type": "code",
      "execution_count": 3,
      "metadata": {
        "pycharm": {}
      },
      "outputs": [],
      "source": [
        "max_val \u003d data[\u0027max_val\u0027].quantile(0.95)\n",
        "min_val \u003d data[\u0027min_val\u0027].quantile(0.01)"
      ]
    },
    {
      "cell_type": "code",
      "execution_count": 4,
      "metadata": {
        "pycharm": {}
      },
      "outputs": [],
      "source": [
        "crops \u003d h5py.File(\"crops.hdf5\", \"w\")"
      ]
    },
    {
      "cell_type": "code",
      "execution_count": 5,
      "metadata": {
        "pycharm": {}
      },
      "outputs": [],
      "source": [
        "SIZE \u003d 64"
      ]
    },
    {
      "cell_type": "code",
      "execution_count": 6,
      "metadata": {
        "pycharm": {}
      },
      "outputs": [],
      "source": [
        "def normalize(volume):\n",
        "    # Scale to values between 0 and 1\n",
        "    mxval \u003d max_val\n",
        "    mnval \u003d min_val\n",
        "    im_volume \u003d (volume - mnval)/max(mxval - mnval, 1e-3)\n",
        "    return im_volume"
      ]
    },
    {
      "cell_type": "code",
      "execution_count": 7,
      "metadata": {
        "pycharm": {}
      },
      "outputs": [],
      "source": [
        "def positions(im_shape, crop_shape, pads):\n",
        "        zi, xi, yi \u003d im_shape\n",
        "        zc, xc, yc \u003d crop_shape\n",
        "        zp, xp, yp \u003d pads\n",
        "        for z in [z for z in range(0, zi, zp) if z + zc \u003c\u003d zi]:\n",
        "            for x in [x for x in range(0, xi, xp) if x + xc \u003c\u003d xi]:\n",
        "                for y in [y for y in range(0, yi, yp) if y + yc \u003c\u003d yi]:\n",
        "                    yield (z, x, y)"
      ]
    },
    {
      "cell_type": "code",
      "execution_count": 8,
      "metadata": {
        "scrolled": true,
        "pycharm": {}
      },
      "outputs": [
        {
          "data": {
            "application/vnd.jupyter.widget-view+json": {
              "model_id": "0154ea9320b14de2b3b7bed551aea38a",
              "version_major": 2,
              "version_minor": 0
            },
            "text/plain": [
              "HBox(children\u003d(IntProgress(value\u003d0, max\u003d1), HTML(value\u003d\u0027\u0027)))"
            ]
          },
          "metadata": {},
          "output_type": "display_data"
        },
        {
          "name": "stdout",
          "output_type": "stream",
          "text": [
            "\n"
          ]
        }
      ],
      "source": [
        "# 5 for local run. replace with len(data) for cloud\n",
        "crops_data \u003d []\n",
        "for i in tqdm.tqdm_notebook(range(1)):\n",
        "    row \u003d data.iloc[i]\n",
        "    case_id, z, x, y \u003d row[\u0027case_id\u0027], row[\u0027num_slices\u0027], row[\u0027height\u0027], row[\u0027width\u0027]\n",
        "    im, mask \u003d starter.load_case(case_id)\n",
        "    im, mask \u003d im.get_data(), mask.get_data()\n",
        "    pad_size \u003d SIZE - im.shape[0] % SIZE \n",
        "    im \u003d normalize(im)\n",
        "    im \u003d np.pad(im, ((pad_size, 0), (0, 0), (0, 0)), \u0027constant\u0027)\n",
        "    mask \u003d np.pad(mask, ((pad_size, 0), (0, 0), (0, 0)), \u0027constant\u0027)\n",
        "    for position in positions((int(z + pad_size) , int(x), int(y)), (64, 64, 64), (32, 32, 32)):\n",
        "        z, x, y \u003d position\n",
        "        crop \u003d mask[z:z+64, x:x+64,y:y+64]\n",
        "        kid_size \u003d np.sum(crop \u003d\u003d 1)\n",
        "        tumor_size \u003d np.sum(crop \u003d\u003d 2)\n",
        "        crops_data.append([case_id, position, 64, 32, kid_size, tumor_size])\n",
        "    crops.create_dataset(case_id, data\u003dnp.array([im, mask]))"
      ]
    },
    {
      "cell_type": "code",
      "execution_count": 9,
      "metadata": {
        "pycharm": {}
      },
      "outputs": [],
      "source": [
        "crops_data \u003d pd.DataFrame(data\u003dcrops_data, columns\u003d[\"case_id\", \"position\", \"window\", \"padding\", \"kid_size\", \"tumor_size\"])"
      ]
    },
    {
      "cell_type": "code",
      "execution_count": 12,
      "metadata": {
        "pycharm": {}
      },
      "outputs": [],
      "source": [
        "crops.close()"
      ]
    },
    {
      "cell_type": "code",
      "execution_count": 88,
      "metadata": {
        "pycharm": {}
      },
      "outputs": [],
      "source": [
        "crops_data.to_csv(\"crops.csv\")"
      ]
    },
    {
      "cell_type": "code",
      "execution_count": null,
      "metadata": {
        "pycharm": {}
      },
      "outputs": [],
      "source": []
    },
    {
      "cell_type": "code",
      "execution_count": null,
      "metadata": {
        "pycharm": {}
      },
      "outputs": [],
      "source": []
    },
    {
      "cell_type": "code",
      "execution_count": null,
      "metadata": {
        "pycharm": {}
      },
      "outputs": [],
      "source": []
    }
  ],
  "metadata": {
    "kernelspec": {
      "display_name": "Python 3",
      "language": "python",
      "name": "python3"
    },
    "language_info": {
      "codemirror_mode": {
        "name": "ipython",
        "version": 3
      },
      "file_extension": ".py",
      "mimetype": "text/x-python",
      "name": "python",
      "nbconvert_exporter": "python",
      "pygments_lexer": "ipython3",
      "version": "3.7.2"
    }
  },
  "nbformat": 4,
  "nbformat_minor": 2
}