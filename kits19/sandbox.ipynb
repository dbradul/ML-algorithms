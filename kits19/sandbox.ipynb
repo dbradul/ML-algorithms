{
 "cells": [
  {
   "cell_type": "code",
   "execution_count": 283,
   "metadata": {},
   "outputs": [],
   "source": [
    "import torch\n",
    "import torch.utils.data\n",
    "import pandas as pd\n",
    "import numpy as np\n",
    "import src.starter.utils as starter\n",
    "import src.starter.visualize as vis\n",
    "import os\n",
    "import h5py\n",
    "import tqdm\n",
    "from src.unet import UNet3D"
   ]
  },
  {
   "cell_type": "code",
   "execution_count": 286,
   "metadata": {},
   "outputs": [],
   "source": [
    "from src.config import config"
   ]
  },
  {
   "cell_type": "code",
   "execution_count": 284,
   "metadata": {},
   "outputs": [],
   "source": [
    "stnet = UNet3D(1, 3, False)"
   ]
  },
  {
   "cell_type": "code",
   "execution_count": null,
   "metadata": {},
   "outputs": [],
   "source": []
  },
  {
   "cell_type": "code",
   "execution_count": null,
   "metadata": {},
   "outputs": [],
   "source": []
  },
  {
   "cell_type": "code",
   "execution_count": 163,
   "metadata": {},
   "outputs": [],
   "source": [
    "from sklearn.metrics import confusion_matrix"
   ]
  },
  {
   "cell_type": "code",
   "execution_count": 197,
   "metadata": {},
   "outputs": [],
   "source": [
    "import src.utils as utils"
   ]
  },
  {
   "cell_type": "code",
   "execution_count": 198,
   "metadata": {},
   "outputs": [],
   "source": [
    "def positions(im_shape, crop_shape, pads):\n",
    "        zi, xi, yi = im_shape\n",
    "        zc, xc, yc = crop_shape\n",
    "        zp, xp, yp = pads\n",
    "        for z in [z for z in range(0, zi, zp) if z + zc <= zi]:\n",
    "            for x in [x for x in range(0, xi, xp) if x + xc <= xi]:\n",
    "                for y in [y for y in range(0, yi, yp) if y + yc <= yi]:\n",
    "                    yield (z, x, y)"
   ]
  },
  {
   "cell_type": "code",
   "execution_count": 203,
   "metadata": {},
   "outputs": [],
   "source": [
    "pos = list(positions((128, 128, 128), (64, 64, 64), (32, 32, 32)))"
   ]
  },
  {
   "cell_type": "code",
   "execution_count": 208,
   "metadata": {},
   "outputs": [],
   "source": [
    "arr = np.zeros((128, 128, 128))"
   ]
  },
  {
   "cell_type": "code",
   "execution_count": 212,
   "metadata": {},
   "outputs": [],
   "source": [
    "z, x, y = pos[0]"
   ]
  },
  {
   "cell_type": "code",
   "execution_count": 217,
   "metadata": {},
   "outputs": [],
   "source": [
    "predictions = np.random.randn(64, 64, 64)"
   ]
  },
  {
   "cell_type": "code",
   "execution_count": 279,
   "metadata": {},
   "outputs": [],
   "source": [
    "stats = pd.read_csv(\"data_stats.csv\")"
   ]
  },
  {
   "cell_type": "code",
   "execution_count": 291,
   "metadata": {},
   "outputs": [
    {
     "data": {
      "text/html": [
       "<div>\n",
       "<style scoped>\n",
       "    .dataframe tbody tr th:only-of-type {\n",
       "        vertical-align: middle;\n",
       "    }\n",
       "\n",
       "    .dataframe tbody tr th {\n",
       "        vertical-align: top;\n",
       "    }\n",
       "\n",
       "    .dataframe thead th {\n",
       "        text-align: right;\n",
       "    }\n",
       "</style>\n",
       "<table border=\"1\" class=\"dataframe\">\n",
       "  <thead>\n",
       "    <tr style=\"text-align: right;\">\n",
       "      <th></th>\n",
       "      <th>captured_pixel_width</th>\n",
       "      <th>captured_slice_thickness</th>\n",
       "      <th>case_id</th>\n",
       "      <th>case_nid</th>\n",
       "      <th>num_slices</th>\n",
       "      <th>height</th>\n",
       "      <th>width</th>\n",
       "      <th>im_volume</th>\n",
       "      <th>kidney_volume</th>\n",
       "      <th>tumor_volume</th>\n",
       "      <th>max_val</th>\n",
       "      <th>min_val</th>\n",
       "    </tr>\n",
       "  </thead>\n",
       "  <tbody>\n",
       "    <tr>\n",
       "      <th>0</th>\n",
       "      <td>0.919922</td>\n",
       "      <td>1.0</td>\n",
       "      <td>case_00000</td>\n",
       "      <td>0</td>\n",
       "      <td>611.0</td>\n",
       "      <td>512.0</td>\n",
       "      <td>512.0</td>\n",
       "      <td>160169984.0</td>\n",
       "      <td>901262.0</td>\n",
       "      <td>18231.0</td>\n",
       "      <td>1413.0</td>\n",
       "      <td>-1024.0</td>\n",
       "    </tr>\n",
       "    <tr>\n",
       "      <th>1</th>\n",
       "      <td>0.798828</td>\n",
       "      <td>1.0</td>\n",
       "      <td>case_00001</td>\n",
       "      <td>1</td>\n",
       "      <td>602.0</td>\n",
       "      <td>512.0</td>\n",
       "      <td>512.0</td>\n",
       "      <td>157810688.0</td>\n",
       "      <td>1424126.0</td>\n",
       "      <td>21965.0</td>\n",
       "      <td>1393.0</td>\n",
       "      <td>-1024.0</td>\n",
       "    </tr>\n",
       "    <tr>\n",
       "      <th>2</th>\n",
       "      <td>0.939453</td>\n",
       "      <td>2.0</td>\n",
       "      <td>case_00002</td>\n",
       "      <td>2</td>\n",
       "      <td>261.0</td>\n",
       "      <td>512.0</td>\n",
       "      <td>512.0</td>\n",
       "      <td>68419584.0</td>\n",
       "      <td>606988.0</td>\n",
       "      <td>39224.0</td>\n",
       "      <td>3071.0</td>\n",
       "      <td>-1024.0</td>\n",
       "    </tr>\n",
       "    <tr>\n",
       "      <th>3</th>\n",
       "      <td>0.855469</td>\n",
       "      <td>2.0</td>\n",
       "      <td>case_00003</td>\n",
       "      <td>3</td>\n",
       "      <td>270.0</td>\n",
       "      <td>512.0</td>\n",
       "      <td>512.0</td>\n",
       "      <td>70778880.0</td>\n",
       "      <td>531769.0</td>\n",
       "      <td>13926.0</td>\n",
       "      <td>3071.0</td>\n",
       "      <td>-1024.0</td>\n",
       "    </tr>\n",
       "    <tr>\n",
       "      <th>4</th>\n",
       "      <td>0.976562</td>\n",
       "      <td>4.0</td>\n",
       "      <td>case_00004</td>\n",
       "      <td>4</td>\n",
       "      <td>64.0</td>\n",
       "      <td>512.0</td>\n",
       "      <td>512.0</td>\n",
       "      <td>16777216.0</td>\n",
       "      <td>113183.0</td>\n",
       "      <td>4932.0</td>\n",
       "      <td>2125.0</td>\n",
       "      <td>-1024.0</td>\n",
       "    </tr>\n",
       "  </tbody>\n",
       "</table>\n",
       "</div>"
      ],
      "text/plain": [
       "   captured_pixel_width  captured_slice_thickness     case_id  case_nid  \\\n",
       "0              0.919922                       1.0  case_00000         0   \n",
       "1              0.798828                       1.0  case_00001         1   \n",
       "2              0.939453                       2.0  case_00002         2   \n",
       "3              0.855469                       2.0  case_00003         3   \n",
       "4              0.976562                       4.0  case_00004         4   \n",
       "\n",
       "   num_slices  height  width    im_volume  kidney_volume  tumor_volume  \\\n",
       "0       611.0   512.0  512.0  160169984.0       901262.0       18231.0   \n",
       "1       602.0   512.0  512.0  157810688.0      1424126.0       21965.0   \n",
       "2       261.0   512.0  512.0   68419584.0       606988.0       39224.0   \n",
       "3       270.0   512.0  512.0   70778880.0       531769.0       13926.0   \n",
       "4        64.0   512.0  512.0   16777216.0       113183.0        4932.0   \n",
       "\n",
       "   max_val  min_val  \n",
       "0   1413.0  -1024.0  \n",
       "1   1393.0  -1024.0  \n",
       "2   3071.0  -1024.0  \n",
       "3   3071.0  -1024.0  \n",
       "4   2125.0  -1024.0  "
      ]
     },
     "execution_count": 291,
     "metadata": {},
     "output_type": "execute_result"
    }
   ],
   "source": [
    "stats.head()"
   ]
  },
  {
   "cell_type": "code",
   "execution_count": 220,
   "metadata": {},
   "outputs": [],
   "source": [
    "arr[z:z+64, x:x+64, y:y+64] = arr[z:z+64, x:x+64, y:y+64] + predictions"
   ]
  },
  {
   "cell_type": "code",
   "execution_count": 254,
   "metadata": {},
   "outputs": [],
   "source": [
    "crops = pd.read_csv(\"crops.csv\")"
   ]
  },
  {
   "cell_type": "code",
   "execution_count": 258,
   "metadata": {},
   "outputs": [],
   "source": [
    "cases = crops.case_id.unique()"
   ]
  },
  {
   "cell_type": "code",
   "execution_count": 265,
   "metadata": {},
   "outputs": [],
   "source": [
    "positions = [eval(pos) for pos in crops[crops.case_id == cases[0]].position.values]"
   ]
  },
  {
   "cell_type": "code",
   "execution_count": null,
   "metadata": {},
   "outputs": [],
   "source": []
  },
  {
   "cell_type": "code",
   "execution_count": null,
   "metadata": {},
   "outputs": [],
   "source": []
  },
  {
   "cell_type": "code",
   "execution_count": null,
   "metadata": {},
   "outputs": [],
   "source": []
  },
  {
   "cell_type": "code",
   "execution_count": null,
   "metadata": {},
   "outputs": [],
   "source": []
  },
  {
   "cell_type": "code",
   "execution_count": null,
   "metadata": {},
   "outputs": [],
   "source": []
  },
  {
   "cell_type": "code",
   "execution_count": null,
   "metadata": {},
   "outputs": [],
   "source": []
  }
 ],
 "metadata": {
  "kernelspec": {
   "display_name": "Python 3",
   "language": "python",
   "name": "python3"
  },
  "language_info": {
   "codemirror_mode": {
    "name": "ipython",
    "version": 3
   },
   "file_extension": ".py",
   "mimetype": "text/x-python",
   "name": "python",
   "nbconvert_exporter": "python",
   "pygments_lexer": "ipython3",
   "version": "3.7.2"
  }
 },
 "nbformat": 4,
 "nbformat_minor": 2
}
